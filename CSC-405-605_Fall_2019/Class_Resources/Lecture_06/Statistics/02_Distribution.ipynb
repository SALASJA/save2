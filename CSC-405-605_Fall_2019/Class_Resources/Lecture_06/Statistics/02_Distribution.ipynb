{
 "cells": [
  {
   "cell_type": "markdown",
   "metadata": {
    "slideshow": {
     "slide_type": "slide"
    }
   },
   "source": [
    "# Probability Distributions "
   ]
  },
  {
   "cell_type": "markdown",
   "metadata": {
    "slideshow": {
     "slide_type": "subslide"
    }
   },
   "source": [
    "### Probability\n",
    "\n",
    "\n",
    "##### Probability measures how likely it is for an event to occur on a scale from 0 (the event never occurs) to 1 (the event always occurs)."
   ]
  },
  {
   "cell_type": "markdown",
   "metadata": {
    "slideshow": {
     "slide_type": "subslide"
    }
   },
   "source": [
    "<center><img src=\"https://www.mathsisfun.com/geometry/images/pair-dice2.svg\" class=\"center\" alt=\"dice\" style=\"width: 300px;\"/></center>\n",
    "<br></br>\n",
    "<br></br>\n",
    "\n",
    "##### Q1. The probability of rolling a \"4\" with a die?"
   ]
  },
  {
   "cell_type": "markdown",
   "metadata": {
    "slideshow": {
     "slide_type": "fragment"
    }
   },
   "source": [
    "##### A1: the probability = 1 / 6 "
   ]
  },
  {
   "cell_type": "markdown",
   "metadata": {
    "slideshow": {
     "slide_type": "subslide"
    }
   },
   "source": [
    "<center><img src=\"./images/dice.png\" class=\"center\" alt=\"dice\" style=\"width: 700px;\"/></center>"
   ]
  },
  {
   "cell_type": "markdown",
   "metadata": {
    "slideshow": {
     "slide_type": "subslide"
    }
   },
   "source": [
    "##### Q2: There are 5 marbles in a bag: 4 are blue, and 1 is red. What is the probability that a blue marble gets picked?\n"
   ]
  },
  {
   "cell_type": "markdown",
   "metadata": {
    "slideshow": {
     "slide_type": "fragment"
    }
   },
   "source": [
    "##### A2: the probability = 4 / 5 "
   ]
  },
  {
   "cell_type": "markdown",
   "metadata": {
    "slideshow": {
     "slide_type": "subslide"
    }
   },
   "source": [
    "<center><img src=\"https://www.mathsisfun.com/data/images/probability-line.svg\" class=\"center\" alt=\"pline\" style=\"width: 900px;\"/></center>"
   ]
  },
  {
   "cell_type": "markdown",
   "metadata": {
    "slideshow": {
     "slide_type": "subslide"
    }
   },
   "source": [
    "- Many statistical tools and techniques used in data analysis are based on probability. \n",
    "- When working with data, variables in the columns of the data set can be thought of as **random variables**\n",
    "    - variables that vary due to chance. "
   ]
  },
  {
   "cell_type": "markdown",
   "metadata": {
    "slideshow": {
     "slide_type": "subslide"
    }
   },
   "source": [
    "#### Some Definitions\n",
    "\n",
    "* A **random variable** is a variable whose value is determined by the outcome of a random experiment.\n",
    "    - quantity that is produced by a random process\n",
    "    \n",
    "    \n",
    "\n",
    "* A **discrete random variable** is one whose set of assumed values is countable (arises from counting).\n",
    "    - values are drawn from a finite set of states.\n",
    "    - Simply, this means that if I pick any two consecutive outcomes. I can’t get an outcome that’s in between.\n",
    "    - In mathematics, we would say that the list of outcomes is countable. \n",
    "    \n",
    "    \n",
    "    \n",
    "* A **boolean random variable** is one where values are drawn from the set of {true, false}.\n",
    "\n",
    "\n",
    "\n",
    "* A **continuous random variable** is one whose set of assumed values is uncountable (arises from measurement.).\n",
    "    - Values are drawn from a range of real-valued numerical values.\n"
   ]
  },
  {
   "cell_type": "markdown",
   "metadata": {
    "slideshow": {
     "slide_type": "subslide"
    }
   },
   "source": [
    "We shall use:\n",
    "\n",
    "- A capital $X$ for the random variable and\n",
    "\n",
    "- Lower case $x_1$, $x_2$, $x_3$ ... for the values of the random variable in an experiment. \n",
    "    - These $x_i$ then represents an event that is a subset of the sample space.\n",
    "\n",
    "- The probabilities of the events are given by: $P(x_1)$, $P(x_2)$, $P(x_3)$, ..."
   ]
  },
  {
   "cell_type": "markdown",
   "metadata": {
    "slideshow": {
     "slide_type": "slide"
    }
   },
   "source": [
    "### Functions\n",
    "\n",
    "\n",
    "#### Why are we talking about functions?\n",
    "\n",
    "- In the example of rolling a six-sided die, there were only six possible outcomes so we could write down the entire probability distribution in a table.\n",
    "\n",
    "\n",
    "- In many scenarios, the number of outcomes can be much larger and hence a table would be tedious to write down.\n",
    "\n",
    "- ***The function allows us to define a probability distribution succinctly.***\n",
    "\n"
   ]
  },
  {
   "cell_type": "markdown",
   "metadata": {
    "slideshow": {
     "slide_type": "subslide"
    }
   },
   "source": [
    "#### What is a function?\n",
    "\n",
    "- On a very abstract level, a function is a box that takes an input and returns an output. \n",
    "    - For the vast majority of cases, the function actually has to do something with the input for the output to be useful.\n",
    "\n",
    "Let’s define our own function. \n",
    "- Let’s say that this function takes in a number as input, adds 2 to the input number, and returns the new number as output. \n",
    "- Graphically our function (as a box) looks like this:"
   ]
  },
  {
   "cell_type": "markdown",
   "metadata": {
    "slideshow": {
     "slide_type": "fragment"
    }
   },
   "source": [
    "<center><img src=\"./images/func1.png\" class=\"center\" alt=\"fig\" style=\"width: 500px;\"/></center>"
   ]
  },
  {
   "cell_type": "markdown",
   "metadata": {
    "slideshow": {
     "slide_type": "subslide"
    }
   },
   "source": [
    "#### Generalization\n",
    "\n",
    "<center><img src=\"./images/func2.png\" class=\"center\" alt=\"fig\" style=\"width: 500px;\"/></center>"
   ]
  },
  {
   "cell_type": "markdown",
   "metadata": {
    "slideshow": {
     "slide_type": "fragment"
    }
   },
   "source": [
    "#### Mathematically\n",
    "\n",
    "<center><img src=\"./images/func3.png\" class=\"center\" alt=\"fig\" style=\"width: 300px;\"/></center>"
   ]
  },
  {
   "cell_type": "markdown",
   "metadata": {
    "slideshow": {
     "slide_type": "subslide"
    }
   },
   "source": [
    "#### Graphically\n",
    "\n",
    "<center><img src=\"./images/func4.png\" class=\"center\" alt=\"fig\" style=\"width: 800px;\"/></center>\n",
    "\n",
    "- We can read along the horizontal axis on the bottom as our input numbers and the corresponding numbers on the vertical axis on the left are the output values f(x) = x+2.\n",
    "\n",
    "\n",
    "- For example, we can see that the blue line that represents the function crosses the point where the vertical (white) line at x=1 intersects the horizontal (white) line f(x) = 3. \n",
    "\n",
    "    - This graphically shows that f(1) = 1 + 2 = 3."
   ]
  },
  {
   "cell_type": "markdown",
   "metadata": {
    "slideshow": {
     "slide_type": "subslide"
    }
   },
   "source": [
    "#### Function Parameters\n",
    "\n",
    "- One of the most important features of functions are parameters. \n",
    "\n",
    "\n",
    "- Parameters are the numbers that you find inside the functions that you don’t necessarily feed in as input. \n",
    "\n",
    "\n",
    "- In our example, f(x) = x + 2, the number “2” is a parameter because we need it to define the function but we don’t include it as input to the function."
   ]
  },
  {
   "cell_type": "markdown",
   "metadata": {
    "slideshow": {
     "slide_type": "slide"
    }
   },
   "source": [
    "## Probability Distribution\n",
    "\n",
    "- A ***probability distribution*** describes how a random variable is distributed.\n",
    "    - it tells us which values a random variable is most likely to take on, and which values are less likely. \n",
    "    - \"Distributions summarize the relationship between possible values and their probability for a random variable.\""
   ]
  },
  {
   "cell_type": "markdown",
   "metadata": {
    "slideshow": {
     "slide_type": "subslide"
    }
   },
   "source": [
    "##### Types of Probability Distributions\n",
    "\n",
    "<center><img src=\"./images/prob_dist.png\" class=\"center\" alt=\"pline\" style=\"width: 1200px;\"/></center>"
   ]
  },
  {
   "cell_type": "markdown",
   "metadata": {
    "slideshow": {
     "slide_type": "subslide"
    }
   },
   "source": [
    "#### Probability Distribution Properties\n",
    "- A distribution has general properties (moments):\n",
    "    - Expected value $E[X]$ (mean $\\hat{X}$), $E[X] = \\sum x_i P(x_i)$\n",
    "    - Variance ($\\mu$)\n",
    "    - Skew \n",
    "    - Kurtosis"
   ]
  },
  {
   "cell_type": "markdown",
   "metadata": {
    "slideshow": {
     "slide_type": "skip"
    }
   },
   "source": [
    "- In statistics, there are a range of precisely defined **[probability distributions](https://en.wikipedia.org/wiki/Probability_distribution)** that have different shapes and can be used to model different types of random events. In this lesson we'll discuss some common probability distributions and how to work with them in Python."
   ]
  },
  {
   "cell_type": "markdown",
   "metadata": {
    "slideshow": {
     "slide_type": "slide"
    }
   },
   "source": [
    "## Probabilty Distribution Types\n",
    "### 1. Continuous Probability Distributions\n",
    "- A continuous probability distribution summarizes the probability for a continuous random variable.\n",
    "- The ***probability distribution function, or PDF***, defines the probability distribution for a continuous random variable.\n",
    "- Continuous probability distribution also has a ***cumulative distribution function, or CDF***, that defines the probability of a value less than or equal to a specific numerical value from the domain.\n",
    "\n"
   ]
  },
  {
   "cell_type": "markdown",
   "metadata": {
    "slideshow": {
     "slide_type": "subslide"
    }
   },
   "source": [
    "Distributions include:\n",
    "- Normal or Gaussian distribution.\n",
    "- Exponential distribution.\n",
    "- Pareto distribution\n",
    "\n",
    "Examples:\n",
    "- The probabilities of the heights of humans \n",
    "- The probabilities of movies being a hit \n",
    "- The probabilities of income levels"
   ]
  },
  {
   "cell_type": "markdown",
   "metadata": {
    "slideshow": {
     "slide_type": "subslide"
    }
   },
   "source": [
    "#### Continous Probabilty Terminology:\n",
    "\n",
    "- **PDF: Probability Density Function,** returns the probability of a given continuous outcome.\n",
    "\n",
    "<div style=\"font-size: 150%;\">  \n",
    "$$\\int_{a}^{b} f(x) dx = P(a \\leq X \\leq b)$$\n",
    "</div>\n",
    "\n",
    "- **CDF: Cumulative Distribution Function,** returns the probability of a value less than or equal to a given outcome.\n",
    "\n",
    "<div style=\"font-size: 150%;\">  \n",
    "$$f(x) = P(X \\leq x)$$\n",
    "</div>\n",
    "\n",
    "- **PPF: Percent-Point Function,** returns a discrete value that is less than or equal to the given probability. \n",
    "    - Inverse of CDF\n"
   ]
  },
  {
   "cell_type": "markdown",
   "metadata": {
    "slideshow": {
     "slide_type": "subslide"
    }
   },
   "source": [
    "### 2. Discrete Probability Distributions\n",
    "- A discrete probability distribution summarizes the probabilities for a discrete random variable.\n",
    "- The ***probability mass function, or PMF***, defines the probability distribution for a discrete random variable.\n",
    "    - It is a function that assigns a probability for specific discrete values. \n",
    "- A discrete probability distribution has a ***cumulative distribution function, or CDF.***\n",
    "    - This is a function that assigns a probability that a discrete random variable will have a value of less than or equal to a specific discrete value.\n",
    "    \n"
   ]
  },
  {
   "cell_type": "markdown",
   "metadata": {
    "slideshow": {
     "slide_type": "subslide"
    }
   },
   "source": [
    "Distribution include:\n",
    "\n",
    "- Bernoulli and binomial distributions.\n",
    "- Multinoulli and multinomial distributions.\n",
    "- Poisson distribution.\n",
    "\n",
    "\n",
    "Examples:\n",
    "1. The probabilities of dice rolls form a discrete uniform distribution.\n",
    "2. The probabilities of coin flips.\n",
    "3. The probabilities car colors."
   ]
  },
  {
   "cell_type": "markdown",
   "metadata": {
    "slideshow": {
     "slide_type": "subslide"
    }
   },
   "source": [
    "#### Discrete Probabilty Terminology:\n",
    "\n",
    "- **PMF: Probability Mass Function**, returns the probability of a given outcome.\n",
    "\n",
    "\n",
    "<div style=\"font-size: 150%;\">  \n",
    "$$f(x) = P(X=x)$$\n",
    "</div>\n",
    "\n",
    "- **CDF: Cumulative Distribution Function**, returns the probability of a value less than or equal to a given outcome.\n",
    "\n",
    "\n",
    "<div style=\"font-size: 150%;\">  \n",
    "$$f(x) = P(X \\leq x)$$\n",
    "</div>\n",
    "\n",
    "- **PPF: Percent-Point Function**, returns a discrete value that is less than or equal to the given probability.\n",
    "    - Inverse of CDF\n"
   ]
  },
  {
   "cell_type": "markdown",
   "metadata": {
    "slideshow": {
     "slide_type": "slide"
    }
   },
   "source": [
    "#### A quick example:\n",
    "\n",
    "Suppose you flip a coin two times. \n",
    "\n",
    "How many outcomes?    "
   ]
  },
  {
   "cell_type": "markdown",
   "metadata": {
    "slideshow": {
     "slide_type": "subslide"
    }
   },
   "source": [
    "The outcomes are:\n",
    "\n",
    "\n",
    "- HH, HT, TH, and TT\n",
    "\n",
    "\n",
    "Now, let the variable X represent the number of Heads (H) that result from this experiment. \n",
    "\n",
    "The variable X can take on the values:"
   ]
  },
  {
   "cell_type": "markdown",
   "metadata": {
    "slideshow": {
     "slide_type": "fragment"
    }
   },
   "source": [
    "- 0, 1, or 2.\n",
    "\n",
    "\n",
    "In this example, X is a random variable; because its value is determined by the outcome of a statistical experiment. "
   ]
  },
  {
   "cell_type": "markdown",
   "metadata": {
    "slideshow": {
     "slide_type": "subslide"
    }
   },
   "source": [
    "A probability distribution is a table:\n",
    "\n",
    "\n",
    "| Number of heads | Probability |\n",
    "|:-:|:-:|\n",
    "| 0 | 0.25|\n",
    "| 1 | 0.50|\n",
    "| 2 | 0.25|\n",
    "\n"
   ]
  },
  {
   "cell_type": "markdown",
   "metadata": {
    "slideshow": {
     "slide_type": "subslide"
    }
   },
   "source": [
    "A cumulative probability distribution table:\n",
    "\n",
    "|Number of heads:x | Probability:P(X = x) | Cumulative Probability: P(X < x)|\n",
    "|:-:|:-:|:-:|\n",
    "| 0 |\t0.25 |\t0.25|\n",
    "| 1 |\t0.50 |\t0.75|\n",
    "| 2 |\t0.25 |\t1.00|"
   ]
  },
  {
   "cell_type": "markdown",
   "metadata": {
    "slideshow": {
     "slide_type": "slide"
    }
   },
   "source": [
    "## The Uniform Distribution - Continuous\n",
    "\n",
    "The [uniform distribution](https://en.wikipedia.org/wiki/Uniform_distribution_(continuous)) is a probability distribution where :\n",
    "    <center>***each value within a certain range is equally likely to occur, and values outside of the range never occur.***     </center>\n",
    "    \n",
    "    \n",
    "Example:\n",
    "- a die roll has six possible outcomes: 1,2,3,4,5, or 6. There is a 1/6 probability for each number being rolled.\n",
    "\n",
    "\n",
    "Characteristics:\n",
    "- If we make a density plot of a uniform distribution, it appears flat because no value is any more likely (and hence has any more density) than another.\n",
    "\n"
   ]
  },
  {
   "cell_type": "markdown",
   "metadata": {
    "slideshow": {
     "slide_type": "subslide"
    }
   },
   "source": [
    "**Function:**    \n",
    "\n",
    "<div style=\"font-size: 150%;\">  \n",
    "$$f(x;, a, b) = \\frac{1}{(b-a)},\\ for \\ a \\leq x \\leq b$$\n",
    "</div>\n",
    "    \n",
    "**Parameters**\n",
    "- a is the minimum value\n",
    "- b is the maximum value\n"
   ]
  },
  {
   "cell_type": "markdown",
   "metadata": {
    "slideshow": {
     "slide_type": "subslide"
    }
   },
   "source": [
    "#### PDF\n",
    "\n",
    "<center><img src=\"https://upload.wikimedia.org/wikipedia/commons/thumb/9/96/Uniform_Distribution_PDF_SVG.svg/1920px-Uniform_Distribution_PDF_SVG.svg.png\" class=\"center\" alt=\"pline\" style=\"width: 800px;\"/></center>\n"
   ]
  },
  {
   "cell_type": "markdown",
   "metadata": {
    "slideshow": {
     "slide_type": "subslide"
    }
   },
   "source": [
    "#### CDF\n",
    "\n",
    "<center><img src=\"https://upload.wikimedia.org/wikipedia/commons/thumb/6/63/Uniform_cdf.svg/2560px-Uniform_cdf.svg.png\" class=\"center\" alt=\"pline\" style=\"width: 800px;\"/></center>\n"
   ]
  },
  {
   "cell_type": "code",
   "execution_count": 2,
   "metadata": {
    "slideshow": {
     "slide_type": "skip"
    }
   },
   "outputs": [],
   "source": [
    "%matplotlib inline"
   ]
  },
  {
   "cell_type": "code",
   "execution_count": 3,
   "metadata": {
    "slideshow": {
     "slide_type": "skip"
    }
   },
   "outputs": [],
   "source": [
    "import numpy as np\n",
    "import pandas as pd\n",
    "import matplotlib.pyplot as plt\n",
    "import seaborn as sns\n",
    "import scipy.stats as stats\n",
    "from IPython.display import HTML, display\n",
    "\n",
    "pd.set_option('display.notebook_repr_html', False)\n",
    "pd.set_option('display.max_columns', 20)\n",
    "pd.set_option('display.max_rows', 25)"
   ]
  },
  {
   "cell_type": "markdown",
   "metadata": {
    "slideshow": {
     "slide_type": "subslide"
    }
   },
   "source": [
    "- Many useful functions for working with probability distributions in Python are contained in the `scipy.stats` library. \n",
    "- Let's load in some libraries, generate some uniform data and plot a density curve:"
   ]
  },
  {
   "cell_type": "code",
   "execution_count": 4,
   "metadata": {
    "slideshow": {
     "slide_type": "subslide"
    }
   },
   "outputs": [],
   "source": [
    "uniform_data = stats.uniform.rvs(size=100000,  # Generate 100000 numbers\n",
    "                                 loc = 0,      # From 0 \n",
    "                                 scale=10)     # To 10"
   ]
  },
  {
   "cell_type": "markdown",
   "metadata": {
    "slideshow": {
     "slide_type": "subslide"
    }
   },
   "source": [
    "#### Probability Density Function Plot"
   ]
  },
  {
   "cell_type": "code",
   "execution_count": 5,
   "metadata": {
    "scrolled": false,
    "slideshow": {
     "slide_type": "fragment"
    }
   },
   "outputs": [
    {
     "data": {
      "text/plain": [
       "<matplotlib.axes._subplots.AxesSubplot at 0x7f2194176790>"
      ]
     },
     "execution_count": 5,
     "metadata": {},
     "output_type": "execute_result"
    },
    {
     "data": {
      "image/png": "[encoded data removed]",
      "text/plain": [
       "<Figure size 648x648 with 1 Axes>"
      ]
     },
     "metadata": {
      "needs_background": "light"
     },
     "output_type": "display_data"
    }
   ],
   "source": [
    "pd.DataFrame(uniform_data).plot(kind=\"density\",  # Plot the distribution\n",
    "                               figsize=(9,9),\n",
    "                               xlim=(-1,11))"
   ]
  },
  {
   "cell_type": "markdown",
   "metadata": {
    "slideshow": {
     "slide_type": "skip"
    }
   },
   "source": [
    "*Note: the plot above is an approximation of the underlying distribution, since it is based on a sample of observations."
   ]
  },
  {
   "cell_type": "markdown",
   "metadata": {
    "slideshow": {
     "slide_type": "subslide"
    }
   },
   "source": [
    "- In the code above, we generated 100,000 data points from a uniform distribution spanning the range 0 to 10. \n",
    "\n",
    "- In the density plot, we see that the density of our uniform data is essentially level meaning any given value has the same probability of occurring. \n",
    "\n",
    "- The area under a probability density curve is always equal to 1.\n",
    "\n",
    "Probability distributions in scipy come with several useful functions for generating random data and extracting values of interest:\n",
    "\n",
    "- `stats.distribution.rvs()` generates random numbers from the specified distribution. \n",
    "    - The arguments to `rvs()` will vary depending on the type of distribution you're working with; in the case of the uniform distribution, we have to specify the starting and ending points and the size (number of random points to generate).\n",
    "\n"
   ]
  },
  {
   "cell_type": "markdown",
   "metadata": {
    "slideshow": {
     "slide_type": "subslide"
    }
   },
   "source": [
    "#### Cumulative Distribution Function (CDF)\n",
    "\n",
    "- In probability theory and statistics, the ***cumulative distribution function (CDF)*** of a real-valued random variable X, or just distribution function of X, evaluated at x, ***is the probability that X will take a value less than or equal to x.***\n",
    "\n",
    "\n",
    "<div style=\"font-size: 150%;\">  \n",
    "$$f(x) = P(X \\leq x)$$\n",
    "</div>"
   ]
  },
  {
   "cell_type": "code",
   "execution_count": 6,
   "metadata": {
    "scrolled": true,
    "slideshow": {
     "slide_type": "fragment"
    }
   },
   "outputs": [
    {
     "data": {
      "text/plain": [
       "<matplotlib.axes._subplots.AxesSubplot at 0x7f2191e05f90>"
      ]
     },
     "execution_count": 6,
     "metadata": {},
     "output_type": "execute_result"
    },
    {
     "data": {
      "image/png": "[encoded data removed]",
      "text/plain": [
       "<Figure size 432x288 with 1 Axes>"
      ]
     },
     "metadata": {
      "needs_background": "light"
     },
     "output_type": "display_data"
    }
   ],
   "source": [
    "x = stats.uniform.rvs(size=100000,  # Generate 100000 numbers\n",
    "                                 loc = 0,      # From 0 \n",
    "                                 scale=10)     # To 10\n",
    "sns.distplot(x,\n",
    "             hist_kws=dict(cumulative=True),\n",
    "             kde_kws=dict(cumulative=True))"
   ]
  },
  {
   "cell_type": "markdown",
   "metadata": {
    "slideshow": {
     "slide_type": "subslide"
    }
   },
   "source": [
    "- `stats.distribution.cdf()` - is used to determine the probability that an observation drawn from a distribution falls below a specified value (known as the cumulative distribution function.). \n",
    "    - In essence, `cdf()` gives you the area under the distribution's density curve to the left of a certain value on the x axis. \n",
    "    - For example, in the uniform distribution above, there is a 25% chance that an observation will be in the range 0 to 2.5 and a 75% chance it will fall in the range 2.5 to 10. We can confirm this with `cdf()`:"
   ]
  },
  {
   "cell_type": "code",
   "execution_count": 7,
   "metadata": {
    "slideshow": {
     "slide_type": "fragment"
    }
   },
   "outputs": [
    {
     "data": {
      "text/plain": [
       "0.25"
      ]
     },
     "execution_count": 7,
     "metadata": {},
     "output_type": "execute_result"
    }
   ],
   "source": [
    "stats.uniform.cdf(x=2.5,         # Cutoff value (quantile) to check\n",
    "                  loc=0,         # Distribution start\n",
    "                  scale=10)      # Distribution end"
   ]
  },
  {
   "cell_type": "markdown",
   "metadata": {
    "slideshow": {
     "slide_type": "subslide"
    }
   },
   "source": [
    "#### Point Probabilty Function (PPF)\n",
    "\n",
    "- `stats.distribution.ppf()` - is the inverse of cdf()\n",
    "    - it returns the x axis cutoff value (quantile) associated with a given probability. \n",
    "    - For instance, if we want to know the cutoff value for which we have a 40% chance of drawing an observation below that value, we can use `ppf()`:"
   ]
  },
  {
   "cell_type": "code",
   "execution_count": 8,
   "metadata": {
    "scrolled": true,
    "slideshow": {
     "slide_type": "fragment"
    }
   },
   "outputs": [
    {
     "data": {
      "text/plain": [
       "4.0"
      ]
     },
     "execution_count": 8,
     "metadata": {},
     "output_type": "execute_result"
    }
   ],
   "source": [
    "stats.uniform.ppf(q=0.4,         # Probability cutoff\n",
    "                  loc=0,         # Distribution start\n",
    "                  scale=10)      # Distribution end"
   ]
  },
  {
   "cell_type": "code",
   "execution_count": 9,
   "metadata": {
    "slideshow": {
     "slide_type": "skip"
    }
   },
   "outputs": [
    {
     "data": {
      "text/plain": [
       "<matplotlib.axes._subplots.AxesSubplot at 0x7f2191f82350>"
      ]
     },
     "execution_count": 9,
     "metadata": {},
     "output_type": "execute_result"
    },
    {
     "data": {
      "image/png": "[encoded data removed]",
      "text/plain": [
       "<Figure size 432x288 with 1 Axes>"
      ]
     },
     "metadata": {
      "needs_background": "light"
     },
     "output_type": "display_data"
    }
   ],
   "source": [
    "x = np.random.randn(1000)\n",
    "sns.distplot(x,\n",
    "             hist_kws=dict(cumulative=True),\n",
    "             kde_kws=dict(cumulative=True))"
   ]
  },
  {
   "cell_type": "markdown",
   "metadata": {
    "slideshow": {
     "slide_type": "subslide"
    }
   },
   "source": [
    "#### Probablity Density Function (PDF)\n",
    "Most often, the equation used to describe a continuous probability distribution is called a ***probability density function***.\n",
    "\n",
    "<div style=\"font-size: 150%;\">  \n",
    "$$\\int_{a}^{b} f(x) dx = P(a \\leq X \\leq b)$$\n",
    "</div>\n",
    "\n",
    "<center>\n",
    "<img src=\"http://work.thaslwanter.at/Stats/html/_images/PDF.png\" alt=\"Drawing\" style=\"width: 900px;\"/>\n",
    "</center>"
   ]
  },
  {
   "cell_type": "markdown",
   "metadata": {
    "slideshow": {
     "slide_type": "subslide"
    }
   },
   "source": [
    "For a continuous probability distribution, the density function has the following properties:\n",
    "\n",
    "* Since the continuous random variable is defined over a continuous range of values (called the domain of the variable), the graph of the density function will also be continuous over that range.\n",
    "* The area bounded by the curve of the density function and the x-axis is equal to 1, when computed over the domain of the variable.\n",
    "* The probability that a continious random variable assumes a value between a and b is equal to the area under the density function bounded by a and b."
   ]
  },
  {
   "cell_type": "markdown",
   "metadata": {
    "slideshow": {
     "slide_type": "subslide"
    }
   },
   "source": [
    "- `stats.distribution.pdf()` gives you the probability density (height of the distribution) at a given x value. \n",
    "\n",
    "- Since the uniform distribution is flat, all x values within its range will have the same probability density and x values outside the range have a probability density of 0:"
   ]
  },
  {
   "cell_type": "code",
   "execution_count": 10,
   "metadata": {
    "slideshow": {
     "slide_type": "fragment"
    }
   },
   "outputs": [
    {
     "name": "stdout",
     "output_type": "stream",
     "text": [
      "Density at x value -1\n",
      "0.0\n",
      "Density at x value 2\n",
      "0.1\n",
      "Density at x value 5\n",
      "0.1\n",
      "Density at x value 8\n",
      "0.1\n",
      "Density at x value 11\n",
      "0.0\n"
     ]
    }
   ],
   "source": [
    "for x in range(-1,12,3):\n",
    "    print(\"Density at x value \" + str(x))\n",
    "    print( stats.uniform.pdf(x, loc=0, scale=10) )   "
   ]
  },
  {
   "cell_type": "markdown",
   "metadata": {
    "slideshow": {
     "slide_type": "skip"
    }
   },
   "source": [
    "Probability distribution functions in scipy also support median(), mean(), var() and std()."
   ]
  },
  {
   "cell_type": "markdown",
   "metadata": {
    "slideshow": {
     "slide_type": "slide"
    }
   },
   "source": [
    "## The Normal Distribution - Continuous\n",
    "The normal or Gaussian distribution is ***a continuous probability distribution characterized by a symmetric bell-shaped curve.*** \n",
    "\n",
    "\n",
    "\n",
    "<center><img src=\"https://cdn.kastatic.org/ka-perseus-graphie/191a8f604b04f7b6e4a80d04db881c12798856f7.svg\" class=\"center\" alt=\"Standard Deviation\" style=\"width: 800px;\"/></center> "
   ]
  },
  {
   "cell_type": "markdown",
   "metadata": {
    "slideshow": {
     "slide_type": "subslide"
    }
   },
   "source": [
    "**Function**\n",
    "\n",
    "\n",
    "<center><img src=\"./images/func5.png\" class=\"center\" alt=\"Standard Deviation\" style=\"width: 500px;\"/></center> \n",
    "\n",
    "**Parameters** \n",
    "- the mean, μ - the point where the centre of the distribution is, and \n",
    "\n",
    "\n",
    "- the standard deviation, σ, - how spread out the distribution is."
   ]
  },
  {
   "cell_type": "markdown",
   "metadata": {
    "slideshow": {
     "slide_type": "subslide"
    }
   },
   "source": [
    "### PDF \n",
    "<center>\n",
    "<img src=\"https://upload.wikimedia.org/wikipedia/commons/thumb/7/74/Normal_Distribution_PDF.svg/1920px-Normal_Distribution_PDF.svg.png\" alt=\"Drawing\" style=\"width: 900px;\"/></center>\n",
    "\n",
    "\n"
   ]
  },
  {
   "cell_type": "markdown",
   "metadata": {
    "slideshow": {
     "slide_type": "subslide"
    }
   },
   "source": [
    "### CDF\n",
    "<center>\n",
    "<img src=\"https://upload.wikimedia.org/wikipedia/commons/thumb/c/ca/Normal_Distribution_CDF.svg/1920px-Normal_Distribution_CDF.svg.png\" alt=\"Drawing\" style=\"width: 900px;\"/></center>\n"
   ]
  },
  {
   "cell_type": "markdown",
   "metadata": {
    "slideshow": {
     "slide_type": "subslide"
    }
   },
   "source": [
    "<center><img src=\"https://upload.wikimedia.org/wikipedia/commons/a/a9/Empirical_Rule.PNG\" class=\"center\" alt=\"Standard Deviation\" style=\"width: 800px;\"/></center> \n",
    "\n",
    "\n",
    "- A normal distribution is defined by its center (mean) and spread (standard deviation.). \n",
    "\n",
    "- The bulk of the observations generated from a normal distribution lie near the mean, which lies at the exact center of the distribution.\n",
    "    - as a rule of thumb, \n",
    "        - about 68% of the data lies within 1 standard deviation ($\\sigma$) of the mean ($\\mu$), \n",
    "        - 95% lies within 2$\\sigma$ standard deviations and \n",
    "        - 99.7% lies within 3$\\sigma$ standard deviations."
   ]
  },
  {
   "cell_type": "markdown",
   "metadata": {
    "slideshow": {
     "slide_type": "subslide"
    }
   },
   "source": [
    "- The normal distribution is perhaps the most important distribution in all of statistics. \n",
    "    - It turns out that many real world phenomena, like IQ test scores and human heights, roughly follow a normal distribution, so it is often used to model random variables. \n",
    "    - Many common statistical tests assume distributions are normal.\n",
    "\n",
    "\n",
    "The scipy nickname for the normal distribution is `norm`. Let's investigate the normal distribution:"
   ]
  },
  {
   "cell_type": "code",
   "execution_count": 11,
   "metadata": {
    "slideshow": {
     "slide_type": "subslide"
    }
   },
   "outputs": [
    {
     "name": "stdout",
     "output_type": "stream",
     "text": [
      "(0.15865525393145707, 0.15865525393145707, 0.6826894921370859)\n"
     ]
    }
   ],
   "source": [
    "prob_under_minus1 = stats.norm.cdf(x= -1,  \n",
    "                                loc = 0, #mean location               \n",
    "                                scale= 1)     # standard deviation \n",
    "\n",
    "prob_over_1 = 1 - stats.norm.cdf(x= 1,  \n",
    "                                loc = 0,               \n",
    "                                scale= 1) \n",
    "\n",
    "between_prob = 1-(prob_under_minus1+prob_over_1)\n",
    "\n",
    "print(prob_under_minus1, prob_over_1, between_prob)"
   ]
  },
  {
   "cell_type": "markdown",
   "metadata": {
    "slideshow": {
     "slide_type": "fragment"
    }
   },
   "source": [
    "The output shows that:\n",
    "- roughly 16% of the data generated by a normal distribution with mean 0 and standard deviation 1 is below -1,\n",
    "- 16% is above 1 and \n",
    "- 68% lies between -1 and 1\n",
    "    - which agrees with the 68, 95, 99.7 rule. \n",
    "\n",
    "Let's plot the normal distribution and inspect areas we calculated:"
   ]
  },
  {
   "cell_type": "code",
   "execution_count": 12,
   "metadata": {
    "slideshow": {
     "slide_type": "subslide"
    }
   },
   "outputs": [
    {
     "data": {
      "text/plain": [
       "Text(1.4,0.03,'0.159')"
      ]
     },
     "execution_count": 12,
     "metadata": {},
     "output_type": "execute_result"
    },
    {
     "data": {
      "image/png": "[encoded data removed]",
      "text/plain": [
       "<Figure size 648x648 with 1 Axes>"
      ]
     },
     "metadata": {
      "needs_background": "light"
     },
     "output_type": "display_data"
    }
   ],
   "source": [
    "# Plot normal distribution areas*\n",
    "\n",
    "plt.rcParams[\"figure.figsize\"] = (9,9)\n",
    "                                  \n",
    "plt.fill_between(x=np.arange(-4,-1,0.01), \n",
    "                 y1= stats.norm.pdf(np.arange(-4,-1,0.01)), facecolor='red', alpha=0.35)\n",
    "\n",
    "plt.fill_between(x=np.arange(1,4,0.01), \n",
    "                 y1= stats.norm.pdf(np.arange(1,4,0.01)), facecolor='red', alpha=0.35)\n",
    "\n",
    "plt.fill_between(x=np.arange(-1,1,0.01), \n",
    "                 y1= stats.norm.pdf(np.arange(-1,1,0.01)), facecolor='blue', alpha=0.35)\n",
    "\n",
    "plt.text(x=-1.8, y=0.03, s= round(prob_under_minus1,3))\n",
    "plt.text(x=-0.2, y=0.1, s= round(between_prob,3))\n",
    "plt.text(x=1.4, y=0.03, s= round(prob_over_1,3))"
   ]
  },
  {
   "cell_type": "markdown",
   "metadata": {
    "slideshow": {
     "slide_type": "subslide"
    }
   },
   "source": [
    "The plot above shows the bell shape of the normal distribution, the area below and above one ***standard deviation*** and the area within 1 standard deviation of the mean.\n",
    "\n",
    "Finding quantiles of the normal distribution is a common task when performing statistical tests. You can check normal distribution quantiles with `stats.norm.ppf()`:\n"
   ]
  },
  {
   "cell_type": "code",
   "execution_count": 13,
   "metadata": {
    "slideshow": {
     "slide_type": "fragment"
    }
   },
   "outputs": [
    {
     "name": "stdout",
     "output_type": "stream",
     "text": [
      "-1.9599639845400545\n",
      "1.959963984540054\n"
     ]
    }
   ],
   "source": [
    "print( stats.norm.ppf(q=0.025) ) # Find the quantile for the 2.5% cutoff\n",
    "\n",
    "print( stats.norm.ppf(q=0.975) ) # Find the quantile for the 97.5% cutoff"
   ]
  },
  {
   "cell_type": "markdown",
   "metadata": {
    "slideshow": {
     "slide_type": "fragment"
    }
   },
   "source": [
    "The quantile output above confirms that ***roughly 5% of the data lies more than 2 standard deviations from the mean.***\n",
    "\n",
    "*Note: a mean of 0 and standard deviation of 1 are default values for the normal distribution.*"
   ]
  },
  {
   "cell_type": "markdown",
   "metadata": {
    "slideshow": {
     "slide_type": "slide"
    }
   },
   "source": [
    "## The Binomial Distribution - Discrete\n",
    "\n",
    "The binomial distribution is ***a discrete probability distribution that models the outcomes of a given number of random trails of some experiment or event.*** \n",
    "\n",
    "The binomial is defined by two parameters: \n",
    "- the probability of success in any given trial, and \n",
    "- the number of trials. \n",
    "\n",
    "The binomial distribution tells you ***how likely it is to achieve a given number of successes in n trials of the experiment.*** \n",
    "\n",
    "- For example, we could model flipping a fair coin 10 times with a binomial distribution where the number of trials is set to 10 and the probability of success is set to 0.5. \n",
    "    - In this case the distribution would tell us how likely it is to get zero heads, 1 head, 2 heads and so on.\n",
    "\n",
    "\n"
   ]
  },
  {
   "cell_type": "markdown",
   "metadata": {
    "slideshow": {
     "slide_type": "subslide"
    }
   },
   "source": [
    "Other examples:\n",
    "\n",
    "- 80% of people who purchase pet insurance are women.  If 9 pet insurance owners are randomly selected, find the probability that exactly 6 are women.\n",
    "\n",
    "\n",
    "\n",
    "- 60% of people who purchase sports cars are men.  If 10 sports car owners are randomly selected, find the probability that exactly 7 are men."
   ]
  },
  {
   "cell_type": "markdown",
   "metadata": {
    "slideshow": {
     "slide_type": "subslide"
    }
   },
   "source": [
    "**Function**\n",
    "\n",
    "<div style=\"font-size: 150%;\">  \n",
    "$$f(x;p,n) = \\left( \\begin{array}{c} n \\\\ x \\end{array} \\right)\n",
    " (p)^{x}(1 - p)^{(n-x)} \\;\\;\\;\\;\\;\\; \\mbox{for $x = 0, 1, 2, \\cdots , n$}$$\n",
    "</div>\n",
    "\n",
    "**Parameters** \n",
    "- $p$ - probability of success of a single trail\n",
    "\n",
    "\n",
    "- $n$ - nth trial"
   ]
  },
  {
   "cell_type": "markdown",
   "metadata": {
    "slideshow": {
     "slide_type": "subslide"
    }
   },
   "source": [
    "### PDF and CDF\n",
    "<center>\n",
    "<img src=\"https://upload.wikimedia.org/wikipedia/commons/thumb/7/75/Binomial_distribution_pmf.svg/1920px-Binomial_distribution_pmf.svg.png\" alt=\"Drawing\" style=\"width: 500px;\"/></center>\n",
    "\n",
    "\n",
    "<center>\n",
    "<img src=\"https://upload.wikimedia.org/wikipedia/commons/thumb/5/55/Binomial_distribution_cdf.svg/1920px-Binomial_distribution_cdf.svg.png\" alt=\"Drawing\" style=\"width: 500px;\"/></center>\n"
   ]
  },
  {
   "cell_type": "markdown",
   "metadata": {
    "slideshow": {
     "slide_type": "subslide"
    }
   },
   "source": [
    "Back to our example:\n",
    "\n",
    "- We model flipping a fair coin 10 times with a binomial distribution where the number of trials is set to 10 and the probability of success is set to 0.5. \n",
    "    - We run the experiment multiple times. \n",
    "    - In this case the distribution would tell us how likely it is to get zero heads, 1 head, 2 heads and so on.\n",
    "\n",
    "The scipy name for the binomial is `binom`. \n",
    "\n",
    "Let's generate and investigate some binomial data:"
   ]
  },
  {
   "cell_type": "code",
   "execution_count": 14,
   "metadata": {
    "slideshow": {
     "slide_type": "subslide"
    }
   },
   "outputs": [
    {
     "name": "stdout",
     "output_type": "stream",
     "text": [
      "col_0   0   1    2     3     4     5     6     7    8   9   10\n",
      "row_0                                                         \n",
      "counts  10  92  420  1225  2103  2453  2025  1137  445  81   9\n"
     ]
    },
    {
     "data": {
      "text/plain": [
       "array([[<matplotlib.axes._subplots.AxesSubplot object at 0x7f2191ebd610>]],\n",
       "      dtype=object)"
      ]
     },
     "execution_count": 14,
     "metadata": {},
     "output_type": "execute_result"
    },
    {
     "data": {
      "image/png": "[encoded data removed]",
      "text/plain": [
       "<Figure size 648x648 with 1 Axes>"
      ]
     },
     "metadata": {
      "needs_background": "light"
     },
     "output_type": "display_data"
    }
   ],
   "source": [
    "fair_coin_flips = stats.binom.rvs(n=10,        # Number of flips per trial\n",
    "                                  p=0.5,       # Success probability\n",
    "                                  size=10000)  # Number of trials\n",
    "\n",
    "print( pd.crosstab(index=\"counts\", columns= fair_coin_flips))\n",
    "\n",
    "pd.DataFrame(fair_coin_flips).hist(range=(-0.5,10.5), bins=11, ec='black')"
   ]
  },
  {
   "cell_type": "markdown",
   "metadata": {
    "slideshow": {
     "slide_type": "subslide"
    }
   },
   "source": [
    "\n",
    "Note that since the binomial distribution is discrete, \n",
    "- it only takes on integer values so we can summarize binomial data with a frequency table and its distribution with a histogram. \n",
    "\n",
    "- The histogram shows us that a binomial distribution with a 50% probability of success is roughly symmetric, with the most likely outcomes lying at the center. \n",
    "\n",
    "    - This is reminiscent of the normal distribution.\n",
    "\n",
    "But if we alter the success probability, the distribution won't be symmetric:\n"
   ]
  },
  {
   "cell_type": "code",
   "execution_count": 15,
   "metadata": {
    "slideshow": {
     "slide_type": "subslide"
    }
   },
   "outputs": [
    {
     "name": "stdout",
     "output_type": "stream",
     "text": [
      "col_0   3   4    5    6     7     8     9     10\n",
      "row_0                                           \n",
      "counts   9  64  260  859  1996  3053  2695  1064\n"
     ]
    },
    {
     "data": {
      "text/plain": [
       "array([[<matplotlib.axes._subplots.AxesSubplot object at 0x7f2191bd4310>]],\n",
       "      dtype=object)"
      ]
     },
     "execution_count": 15,
     "metadata": {},
     "output_type": "execute_result"
    },
    {
     "data": {
      "image/png": "[encoded data removed]",
      "text/plain": [
       "<Figure size 648x648 with 1 Axes>"
      ]
     },
     "metadata": {
      "needs_background": "light"
     },
     "output_type": "display_data"
    }
   ],
   "source": [
    "biased_coin_flips = stats.binom.rvs(n=10,      # Number of flips per trial\n",
    "                                  p=0.8,       # Success probability\n",
    "                                  size=10000)  # Number of trials\n",
    "\n",
    "# Print table of counts\n",
    "print( pd.crosstab(index=\"counts\", columns= biased_coin_flips))\n",
    "\n",
    "# Plot histogram\n",
    "pd.DataFrame(biased_coin_flips).hist(range=(-0.5,10.5), bins=11, ec='black')"
   ]
  },
  {
   "cell_type": "markdown",
   "metadata": {
    "slideshow": {
     "slide_type": "subslide"
    }
   },
   "source": [
    "\n",
    "The `cdf()` function lets us check the probability of achieving a number of successes within a certain range:\n"
   ]
  },
  {
   "cell_type": "markdown",
   "metadata": {
    "slideshow": {
     "slide_type": "fragment"
    }
   },
   "source": [
    "Probability of getting 5 heads or less with success at 80%"
   ]
  },
  {
   "cell_type": "code",
   "execution_count": 16,
   "metadata": {
    "slideshow": {
     "slide_type": "fragment"
    }
   },
   "outputs": [
    {
     "data": {
      "text/plain": [
       "0.032793497599999964"
      ]
     },
     "execution_count": 16,
     "metadata": {},
     "output_type": "execute_result"
    }
   ],
   "source": [
    "stats.binom.cdf(k=5,        # Probability of k = 5 successes or less\n",
    "                n=10,       # With 10 flips\n",
    "                p=0.8)      # And success probability 0.8"
   ]
  },
  {
   "cell_type": "markdown",
   "metadata": {
    "slideshow": {
     "slide_type": "fragment"
    }
   },
   "source": [
    "Probability of 9 heads or more with success at 80%"
   ]
  },
  {
   "cell_type": "code",
   "execution_count": 17,
   "metadata": {
    "slideshow": {
     "slide_type": "fragment"
    }
   },
   "outputs": [
    {
     "data": {
      "text/plain": [
       "0.37580963840000003"
      ]
     },
     "execution_count": 17,
     "metadata": {},
     "output_type": "execute_result"
    }
   ],
   "source": [
    "1 - stats.binom.cdf(k=8,        # Probability of k = 9 successes or more\n",
    "                    n=10,       # With 10 flips\n",
    "                    p=0.8)      # And success probability 0.8"
   ]
  },
  {
   "cell_type": "markdown",
   "metadata": {
    "slideshow": {
     "slide_type": "subslide"
    }
   },
   "source": [
    "### Probability Mass Function (PMF):\n",
    "\n",
    "For continuous probability distribution functions, you use `pdf()` to check the probability density at a given x value. \n",
    "\n",
    "For ***discrete distributions*** we use **Probability Mass Function - PMF**:\n",
    "<center>\n",
    "<img src=\"https://upload.wikimedia.org/wikipedia/commons/thumb/8/85/Discrete_probability_distrib.svg/563px-Discrete_probability_distrib.svg.png\" alt=\"Drawing\" style=\"width: 500px;\"/></center>\n",
    "\n",
    "The graph of a probability mass function. \n",
    "- All the values of this function must be non-negative and sum up to 1.\n",
    "\n",
    "For discrete distributions like the binomial, use `stats.distribution.pmf()` (probability mass function) to check the mass (proportion of observations) at given number of successes k:"
   ]
  },
  {
   "cell_type": "markdown",
   "metadata": {
    "slideshow": {
     "slide_type": "subslide"
    }
   },
   "source": [
    "Probability of 5 sucesses with a fair coin at p=0.5"
   ]
  },
  {
   "cell_type": "code",
   "execution_count": 18,
   "metadata": {
    "slideshow": {
     "slide_type": "fragment"
    }
   },
   "outputs": [
    {
     "data": {
      "text/plain": [
       "0.24609375000000025"
      ]
     },
     "execution_count": 18,
     "metadata": {},
     "output_type": "execute_result"
    }
   ],
   "source": [
    "stats.binom.pmf(k=5,        # Probability of k = 5 successes\n",
    "                n=10,       # With 10 flips\n",
    "                p=0.5)      # And success probability 0.5"
   ]
  },
  {
   "cell_type": "markdown",
   "metadata": {
    "slideshow": {
     "slide_type": "fragment"
    }
   },
   "source": [
    "Probability of 8 sucesses with a biased coin at p=0.8"
   ]
  },
  {
   "cell_type": "code",
   "execution_count": 19,
   "metadata": {
    "slideshow": {
     "slide_type": "fragment"
    }
   },
   "outputs": [
    {
     "data": {
      "text/plain": [
       "0.301989888"
      ]
     },
     "execution_count": 19,
     "metadata": {},
     "output_type": "execute_result"
    }
   ],
   "source": [
    "stats.binom.pmf(k=8,        # Probability of k = 8 successes\n",
    "                n=10,       # With 10 flips\n",
    "                p=0.8)      # And success probability 0.8"
   ]
  },
  {
   "cell_type": "markdown",
   "metadata": {
    "slideshow": {
     "slide_type": "slide"
    }
   },
   "source": [
    "## The Geometric and Exponential Distributions\n",
    "\n",
    "The [geometric](https://en.wikipedia.org/wiki/Geometric_distribution) and [exponential](https://en.wikipedia.org/wiki/Exponential_distribution) distributions ***model the time it takes for an event to occur.***\n",
    "\n",
    "- The **geometric distribution** is ***discrete*** \n",
    "    - Models the ***number of trials*** it takes to achieve a success in repeated experiments with a given probability of success. \n",
    "- The **exponential distribution** is a ***continuous*** analog of the geometric distribution\n",
    "    - Models the ***amount of time*** you have to wait before an event occurs given a certain occurrence rate."
   ]
  },
  {
   "cell_type": "markdown",
   "metadata": {
    "slideshow": {
     "slide_type": "subslide"
    }
   },
   "source": [
    "### Geometric distribution - Discrete\n",
    "\n",
    "**Function**\n",
    "\n",
    "<center><img src=\"./images/func6.png\" class=\"center\" alt=\"geometric-pdf\" style=\"width: 500px;\"/></center>\n",
    "\n",
    "**Parameters**\n",
    "- x represents the outcome and takes the value 1 or 0. So we could say that heads = 1 and tails = 0. \n",
    "\n",
    "\n",
    "\n",
    "- p is a parameter that represents the probability of the outcome being 1.\n",
    "\n"
   ]
  },
  {
   "cell_type": "markdown",
   "metadata": {
    "slideshow": {
     "slide_type": "subslide"
    }
   },
   "source": [
    "Examples:\n",
    "\n",
    "\n",
    "- A newlywed couple plans to have children, and will continue until the first girl. What is the probability that there are zero boys before the first girl, one boy before the first girl, two boys before the first girl, and so on?\n",
    "\n",
    "\n",
    "- A doctor is seeking an anti-depressant for a newly diagnosed patient. Suppose that, of the available anti-depressant drugs, the probability that any particular drug will be effective for a particular patient is p=0.6. What is the probability that the first drug found to be effective for this patient is the first drug tried, the second drug tried, and so on? What is the expected number of drugs that will be tried to find one that is effective?\n",
    "\n",
    "\n",
    "\n",
    "- A patient is waiting for a suitable matching kidney donor for a transplant. If the probability that a randomly selected donor is a suitable match is p=0.1, what is the expected number of donors who will be tested before a matching donor is found? \n",
    "\n"
   ]
  },
  {
   "cell_type": "markdown",
   "metadata": {
    "slideshow": {
     "slide_type": "subslide"
    }
   },
   "source": [
    "Probability Density Function\n",
    "\n",
    "<center><img src=\"https://upload.wikimedia.org/wikipedia/commons/thumb/4/4b/Geometric_pmf.svg/450px-Geometric_pmf.svg.png\" class=\"center\" alt=\"geometric-pdf\" style=\"width: 1000px;\"/></center>"
   ]
  },
  {
   "cell_type": "markdown",
   "metadata": {
    "slideshow": {
     "slide_type": "subslide"
    }
   },
   "source": [
    "Cumulative distribution function\n",
    "\n",
    "<center><img src=\"https://upload.wikimedia.org/wikipedia/commons/thumb/6/6f/Geometric_cdf.svg/450px-Geometric_cdf.svg.png\" class=\"center\" alt=\"geometric-cdf\" style=\"width: 1000px;\"/></center>\n"
   ]
  },
  {
   "cell_type": "markdown",
   "metadata": {
    "slideshow": {
     "slide_type": "subslide"
    }
   },
   "source": [
    "### Geometric - Discrete\n",
    "\n",
    "The scipy nickname for the geometric distribution is \"geom\". \n",
    "\n",
    "\n",
    "Let's use the geom functions to model the number of trials it takes to get a success (heads) when flipping a fair coin:"
   ]
  },
  {
   "cell_type": "code",
   "execution_count": 20,
   "metadata": {
    "slideshow": {
     "slide_type": "subslide"
    }
   },
   "outputs": [
    {
     "name": "stdout",
     "output_type": "stream",
     "text": [
      "col_0     1     2     3    4    5    6   7   8   9   10  11  12  13  15\n",
      "row_0                                                                  \n",
      "counts  4949  2495  1249  638  346  177  68  38  25  11   1   1   1   1\n"
     ]
    },
    {
     "data": {
      "text/plain": [
       "array([[<matplotlib.axes._subplots.AxesSubplot object at 0x7f2191b182d0>]],\n",
       "      dtype=object)"
      ]
     },
     "execution_count": 20,
     "metadata": {},
     "output_type": "execute_result"
    },
    {
     "data": {
      "image/png": "[encoded data removed]",
      "text/plain": [
       "<Figure size 648x648 with 1 Axes>"
      ]
     },
     "metadata": {
      "needs_background": "light"
     },
     "output_type": "display_data"
    }
   ],
   "source": [
    "import random\n",
    "random.seed(12)\n",
    "\n",
    "flips_till_heads = stats.geom.rvs(size=10000,  # Generate geometric data\n",
    "                                  p=0.5)       # With success prob 0.5\n",
    "\n",
    "print( pd.crosstab(index=\"counts\", columns= flips_till_heads)) # Print table of counts\n",
    "\n",
    "pd.DataFrame(flips_till_heads).hist(range=(-0.5,max(flips_till_heads)+0.5)\n",
    "                                    , bins=max(flips_till_heads)+1, ec='black') # Plot histogram"
   ]
  },
  {
   "cell_type": "markdown",
   "metadata": {
    "slideshow": {
     "slide_type": "subslide"
    }
   },
   "source": [
    "The distribution looks similar to what we'd expect: \n",
    "- it is very likely to get a heads in 1 or 2 flips\n",
    "- while it is very unlikely for it to take more than 5 flips to get a heads. \n",
    "\n",
    "    - In the 10,000 trails we generated, the longest it took to get a heads was 15 flips.\n",
    "\n",
    "Let's use `cdf()` to check the probability of needing 6 flips or more to get a success:"
   ]
  },
  {
   "cell_type": "code",
   "execution_count": 21,
   "metadata": {
    "slideshow": {
     "slide_type": "fragment"
    }
   },
   "outputs": [
    {
     "data": {
      "text/plain": [
       "0.03125"
      ]
     },
     "execution_count": 21,
     "metadata": {},
     "output_type": "execute_result"
    }
   ],
   "source": [
    "first_five = stats.geom.cdf(k=5,   # Prob of success in first 5 flips\n",
    "                           p=0.5)\n",
    "\n",
    "1 - first_five"
   ]
  },
  {
   "cell_type": "markdown",
   "metadata": {
    "slideshow": {
     "slide_type": "subslide"
    }
   },
   "source": [
    "Use `pmf()` to check the probability of seeing a specific number of flips before a successes:"
   ]
  },
  {
   "cell_type": "code",
   "execution_count": 22,
   "metadata": {
    "slideshow": {
     "slide_type": "fragment"
    }
   },
   "outputs": [
    {
     "data": {
      "text/plain": [
       "0.25"
      ]
     },
     "execution_count": 22,
     "metadata": {},
     "output_type": "execute_result"
    }
   ],
   "source": [
    "stats.geom.pmf(k=2,   # Prob of needing exactly 2 flips to get first success\n",
    "              p=0.5)"
   ]
  },
  {
   "cell_type": "markdown",
   "metadata": {
    "slideshow": {
     "slide_type": "subslide"
    }
   },
   "source": [
    "### Exponential - Continuous\n",
    "\n",
    "\n",
    "\n",
    "**Function**\n",
    "\n",
    "<div style=\"font-size: 150%;\">  \n",
    "$$f(x; \\mu, \\beta) = \\frac{1} {\\beta} e^{-(x - \\mu)/\\beta} \\hspace{.3in}\n",
    "x \\ge \\mu; \\beta > 0$$\n",
    "</div>\n",
    "\n",
    "**Parameters** \n",
    "\n",
    "- μ is the location parameter and \n",
    "\n",
    "\n",
    "- β is the scale parameter (the scale parameter is often referred to as λ which equals 1/β). \n",
    "\n",
    "\n",
    "- The case where μ = 0 and β = 1 is called the standard exponential distribution."
   ]
  },
  {
   "cell_type": "markdown",
   "metadata": {
    "slideshow": {
     "slide_type": "subslide"
    }
   },
   "source": [
    "Examples:\n",
    "\n",
    "- the amount of time (beginning now) until an earthquake occurs\n",
    "\n",
    "\n",
    "- length, in minutes, of long distance business telephone calls\n",
    "\n",
    "\n",
    "- the amount of time, in months, a car battery lasts"
   ]
  },
  {
   "cell_type": "markdown",
   "metadata": {
    "slideshow": {
     "slide_type": "subslide"
    }
   },
   "source": [
    "\n",
    "Probability Density Function\n",
    "    <center><img src=\"https://upload.wikimedia.org/wikipedia/commons/thumb/e/ec/Exponential_pdf.svg/360px-Exponential_pdf.svg.png\" class=\"center\" alt=\"exponential-pdf\" style=\"width: 800px;\"/></center>"
   ]
  },
  {
   "cell_type": "markdown",
   "metadata": {
    "slideshow": {
     "slide_type": "subslide"
    }
   },
   "source": [
    "Cumulative distribution function\n",
    "    <center><img src=\"https://upload.wikimedia.org/wikipedia/commons/thumb/b/ba/Exponential_cdf.svg/325px-Exponential_cdf.svg.png\" class=\"center\" alt=\"exponential-cdf\" style=\"width: 800px;\"/></center>\n",
    "\n",
    "    \n",
    "The scipy name for the exponential distribution is `expon`. Let's investigate the exponential distribution:"
   ]
  },
  {
   "cell_type": "code",
   "execution_count": 23,
   "metadata": {
    "slideshow": {
     "slide_type": "subslide"
    }
   },
   "outputs": [
    {
     "data": {
      "text/plain": [
       "0.36787944117144233"
      ]
     },
     "execution_count": 23,
     "metadata": {},
     "output_type": "execute_result"
    }
   ],
   "source": [
    "# Get the probability of waiting more than 1 time unit before a success\n",
    "\n",
    "prob_1 = stats.expon.cdf(x=1,        \n",
    "                         scale=1)  # Arrival rate\n",
    "\n",
    "1 - prob_1"
   ]
  },
  {
   "cell_type": "markdown",
   "metadata": {
    "slideshow": {
     "slide_type": "fragment"
    }
   },
   "source": [
    "*Note: The average arrival time for the exponential distribution is equal to 1/arrival_rate.\n",
    "\n",
    "Let's plot this exponential distribution to get an idea of its shape:\n"
   ]
  },
  {
   "cell_type": "code",
   "execution_count": 24,
   "metadata": {
    "scrolled": false,
    "slideshow": {
     "slide_type": "subslide"
    }
   },
   "outputs": [
    {
     "data": {
      "text/plain": [
       "Text(1.5,0.08,'0.368')"
      ]
     },
     "execution_count": 24,
     "metadata": {},
     "output_type": "execute_result"
    },
    {
     "data": {
      "image/png": "[encoded data removed]",
      "text/plain": [
       "<Figure size 648x648 with 1 Axes>"
      ]
     },
     "metadata": {
      "needs_background": "light"
     },
     "output_type": "display_data"
    }
   ],
   "source": [
    "plt.fill_between(x=np.arange(0,1,0.01), \n",
    "                 y1= stats.expon.pdf(np.arange(0,1,0.01)) ,\n",
    "                 facecolor='blue',\n",
    "                 alpha=0.35)\n",
    "\n",
    "plt.fill_between(x=np.arange(1,7,0.01), \n",
    "                 y1= stats.expon.pdf(np.arange(1,7,0.01)) ,\n",
    "                 facecolor='red',\n",
    "                 alpha=0.35)\n",
    "\n",
    "\n",
    "plt.text(x=0.3, y=0.2, s= round(prob_1,3))\n",
    "plt.text(x=1.5, y=0.08, s= round(1 - prob_1,3))"
   ]
  },
  {
   "cell_type": "markdown",
   "metadata": {
    "slideshow": {
     "slide_type": "subslide"
    }
   },
   "source": [
    "Similar to the geometric distribution, the exponential starts high and has a long tail that trails off to the right that contains rare cases where you have to wait much longer than average for an arrival."
   ]
  },
  {
   "cell_type": "markdown",
   "metadata": {
    "slideshow": {
     "slide_type": "slide"
    }
   },
   "source": [
    "## The Poisson Distribution - Discrete\n",
    "\n",
    "The [Poisson distribution](https://en.wikipedia.org/wiki/Poisson_distribution) ***models the probability of seeing a certain number of successes within a time interval***\n",
    "- where the time it takes for the next success is modeled by an *exponential distribution*. \n",
    "\n",
    "\n",
    "\n",
    "- The Poisson distribution can be used to model traffic, such as the number of arrivals a hospital can expect in a hour's time or the number of emails you'd expect to receive in a week.\n",
    "\n"
   ]
  },
  {
   "cell_type": "markdown",
   "metadata": {
    "slideshow": {
     "slide_type": "subslide"
    }
   },
   "source": [
    "Let the discrete random variable $X$ denote the number of times an event occurs in an interval of time (or space). Then $X$ may be a Poisson random variable with x = 0, 1, 2, ...\n",
    "\n",
    "For example:\n",
    "\n",
    "* Let X equal the number of typos on a printed page. (This is an example of an interval of space — the space being the printed page.)\n",
    "* Let X equal the number of cars passing through the intersection of Lawndale and Battle-Ground Avenue in one minute. (This is an example of an interval of time  — the time being one minute.)\n",
    "* Let X equal the number of Alaskan salmon caught in a squid driftnet. (This is again an example of an interval of space — the space being the squid driftnet.)\n",
    "* Let X equal the number of customers at an ATM in 10-minute intervals.\n",
    "* Let X equal the number of students arriving during office hours.\n"
   ]
  },
  {
   "cell_type": "markdown",
   "metadata": {
    "slideshow": {
     "slide_type": "subslide"
    }
   },
   "source": [
    "**Function**\n",
    "<div style=\"font-size: 150%;\">  \n",
    "$$f(x; \\lambda)=\\frac{e^{-\\lambda}\\lambda^x}{x!}$$\n",
    "</div>\n",
    "\n",
    "**Parameters**\n",
    "* $X=\\{0,1,2,\\ldots\\}$\n",
    "* $\\lambda > 0$, where $\\lambda$ is both the mean and the variance of X. $$E(X) = \\text{Var}(X) = \\lambda$$\n",
    "* $e$ = 2.71828 \n"
   ]
  },
  {
   "cell_type": "markdown",
   "metadata": {
    "slideshow": {
     "slide_type": "subslide"
    }
   },
   "source": [
    "##### Probability Mass Function\n",
    "<center><img src=\"https://upload.wikimedia.org/wikipedia/commons/thumb/1/16/Poisson_pmf.svg/325px-Poisson_pmf.svg.png\" class=\"center\" alt=\"pdf\" style=\"width: 600px;\"/></center>\n",
    "\n",
    "where, \n",
    "- the horizontal axis is the index k, the number of occurrences. \n",
    "- λ is the expected number of occurrences. \n",
    "- the vertical axis is the probability of k occurrences given λ. \n",
    "- The function is defined only at integer values of k. \n",
    "\n",
    "\n",
    "*The connecting lines are only guides for the eye.*"
   ]
  },
  {
   "cell_type": "markdown",
   "metadata": {
    "slideshow": {
     "slide_type": "subslide"
    }
   },
   "source": [
    "##### Cumulative distribution function\n",
    "<center><img src=\"https://upload.wikimedia.org/wikipedia/commons/thumb/7/7c/Poisson_cdf.svg/325px-Poisson_cdf.svg.png\" class=\"center\" alt=\"CDF\" style=\"width: 600px;\"/></center>\n",
    "\n",
    "- The horizontal axis is the index k, the number of occurrences. \n",
    "- The CDF is discontinuous at the integers of k, and flat everywhere else because a variable that is Poisson distributed takes on only integer values."
   ]
  },
  {
   "cell_type": "markdown",
   "metadata": {
    "slideshow": {
     "slide_type": "subslide"
    }
   },
   "source": [
    "- ***Arrivals*** are described by a Poisson distribution with a mean arrival rate of $\\lambda$. \n",
    "    - This means that the time between successive customer arrivals (mean interarrival time) follows an ***exponential distribution*** with an average of $1/\\lambda$. \n",
    "    - The variance will be $1/\\lambda^2$ (and the standard deviation will be $1/\\lambda$)."
   ]
  },
  {
   "cell_type": "markdown",
   "metadata": {
    "slideshow": {
     "slide_type": "subslide"
    }
   },
   "source": [
    "For example:\n",
    "\n",
    "- On a particular river, overflow floods occur once every 100 years on average. Calculate the probability of $k = 0, 1, 2, 3, 4, 5,$ or $6$ overflow floods in a 100-year interval, assuming the Poisson model is appropriate.\n",
    "    <br></br>    <br></br>\n",
    "    - Because the average event rate is one overflow flood per 100 years, $\\lambda$ = 1\n",
    "    <br></br>    <br></br>\n",
    "    - $P(k$ overflow floods in 100 years) = $\\frac {\\lambda^{k}e^{-\\lambda }}{k!} = \\frac{1^{k}e^{-1}}{k!}$\n",
    "        <br></br>    <br></br>\n",
    "    - $P(k=0$ overflow floods in 100 years) = $\\frac{1^{0}e^{-1}}{0!} = \\frac{e^{-1}}{1} = 0.36$\n",
    "    <br></br>    <br></br>\n",
    "    - $P(k=1$ overflow flood in 100 years) = $\\frac{1^{1}e^{-1}}{1!} = \\frac{e^{-1}}{1} = 0.368$\n",
    "    <br></br>    <br></br>\n",
    "    - $P(k=2$ overflow floods in 100 years) = $\\frac{1^{2}e^{-1}}{2!} = \\frac {e^{-1}}{2} = 0.184$\n",
    "    <br></br>    <br></br>\n",
    "    - $P(k=3) = 0.061$, $P(k=4) = 0.015$, $P(k=5) = 0.003$, $P(k=6) = 0.0005$"
   ]
  },
  {
   "cell_type": "markdown",
   "metadata": {
    "slideshow": {
     "slide_type": "subslide"
    }
   },
   "source": [
    "\n",
    "The scipy name for the Poisson distribution is `poisson`. Let's generate and plot some data from a Poisson distribution with an arrival rate of 1 per time unit:"
   ]
  },
  {
   "cell_type": "code",
   "execution_count": 25,
   "metadata": {
    "scrolled": true,
    "slideshow": {
     "slide_type": "fragment"
    }
   },
   "outputs": [
    {
     "name": "stdout",
     "output_type": "stream",
     "text": [
      "col_0      0     1     2    3    4   5  6  7\n",
      "row_0                                       \n",
      "counts  3689  3667  1876  555  174  29  9  1\n"
     ]
    }
   ],
   "source": [
    "random.seed(12)\n",
    "\n",
    "arrival_rate_1 = stats.poisson.rvs(size=10000,  # Generate Poisson data\n",
    "                                   mu=1 )       # Average arrival time 1\n",
    "\n",
    "# Print table of counts\n",
    "print( pd.crosstab(index=\"counts\", columns= arrival_rate_1))\n"
   ]
  },
  {
   "cell_type": "code",
   "execution_count": 26,
   "metadata": {
    "slideshow": {
     "slide_type": "subslide"
    }
   },
   "outputs": [
    {
     "data": {
      "text/plain": [
       "array([[<matplotlib.axes._subplots.AxesSubplot object at 0x7f21919baed0>]],\n",
       "      dtype=object)"
      ]
     },
     "execution_count": 26,
     "metadata": {},
     "output_type": "execute_result"
    },
    {
     "data": {
      "image/png": "[encoded data removed]",
      "text/plain": [
       "<Figure size 648x648 with 1 Axes>"
      ]
     },
     "metadata": {
      "needs_background": "light"
     },
     "output_type": "display_data"
    }
   ],
   "source": [
    "# Plot histogram\n",
    "pd.DataFrame(arrival_rate_1).hist(range=(-0.5,max(arrival_rate_1)+0.5)\n",
    "                                    , bins=max(arrival_rate_1)+1, ec='black')"
   ]
  },
  {
   "cell_type": "markdown",
   "metadata": {
    "slideshow": {
     "slide_type": "subslide"
    }
   },
   "source": [
    "- The previous histogram shows that when arrivals are relatively infrequent, it is rare to see more than a couple of arrivals in each time period. \n",
    "\n",
    "\n",
    "- When the arrival rate is high, it becomes increasingly rare to see a low number of arrivals and the distribution starts to look more symmetric:"
   ]
  },
  {
   "cell_type": "code",
   "execution_count": 27,
   "metadata": {
    "scrolled": true,
    "slideshow": {
     "slide_type": "fragment"
    }
   },
   "outputs": [
    {
     "name": "stdout",
     "output_type": "stream",
     "text": [
      "col_0   1   2   3    4    5    6    7     8     9     10  ...   15   16   17  \\\n",
      "row_0                                                     ...                  \n",
      "counts   2  17  76  198  411  616  897  1109  1226  1196  ...  384  235  128   \n",
      "\n",
      "col_0   18  19  20  21  22  24  25  \n",
      "row_0                               \n",
      "counts  66  34  19  11   1   1   1  \n",
      "\n",
      "[1 rows x 24 columns]\n"
     ]
    }
   ],
   "source": [
    "random.seed(12)\n",
    "\n",
    "arrival_rate_10 = stats.poisson.rvs(size=10000,  # Generate Poisson data\n",
    "                                   mu=10 )       # Average arrival time 10\n",
    "\n",
    "# Print table of counts\n",
    "print( pd.crosstab(index=\"counts\", columns= arrival_rate_10))"
   ]
  },
  {
   "cell_type": "code",
   "execution_count": 28,
   "metadata": {
    "slideshow": {
     "slide_type": "subslide"
    }
   },
   "outputs": [
    {
     "data": {
      "text/plain": [
       "array([[<matplotlib.axes._subplots.AxesSubplot object at 0x7f21918e6550>]],\n",
       "      dtype=object)"
      ]
     },
     "execution_count": 28,
     "metadata": {},
     "output_type": "execute_result"
    },
    {
     "data": {
      "image/png": "[encoded data removed]",
      "text/plain": [
       "<Figure size 648x648 with 1 Axes>"
      ]
     },
     "metadata": {
      "needs_background": "light"
     },
     "output_type": "display_data"
    }
   ],
   "source": [
    "# Plot histogram\n",
    "pd.DataFrame(arrival_rate_10).hist(range=(-0.5,max(arrival_rate_10)+0.5)\n",
    "                                    , bins=max(arrival_rate_10)+1, ec='black')"
   ]
  },
  {
   "cell_type": "markdown",
   "metadata": {
    "slideshow": {
     "slide_type": "subslide"
    }
   },
   "source": [
    "As with other discrete probability distributions, we can use `cdf()` to check the probability of achieving more or less than a certain number of successes, and `pmf()` to check the probability of obtaining a specific number of successes:"
   ]
  },
  {
   "cell_type": "code",
   "execution_count": 29,
   "metadata": {
    "slideshow": {
     "slide_type": "fragment"
    }
   },
   "outputs": [
    {
     "data": {
      "text/plain": [
       "0.06708596287903189"
      ]
     },
     "execution_count": 29,
     "metadata": {},
     "output_type": "execute_result"
    }
   ],
   "source": [
    "stats.poisson.cdf(k=5,     # Check the probability of 5 arrivals or less\n",
    "                  mu=10)   # With arrival rate 10"
   ]
  },
  {
   "cell_type": "code",
   "execution_count": 30,
   "metadata": {
    "slideshow": {
     "slide_type": "fragment"
    }
   },
   "outputs": [
    {
     "data": {
      "text/plain": [
       "0.12511003572113372"
      ]
     },
     "execution_count": 30,
     "metadata": {},
     "output_type": "execute_result"
    }
   ],
   "source": [
    "stats.poisson.pmf(k=10,     # Check the prob f exactly 10 arrivals\n",
    "                  mu=10)    # With arrival rate 10"
   ]
  },
  {
   "cell_type": "markdown",
   "metadata": {
    "collapsed": true,
    "slideshow": {
     "slide_type": "slide"
    }
   },
   "source": [
    "## Gamma Distribution - Continuous\n",
    "\n",
    "Use the gamma distribution to ***model positive data values that are skewed to the right and greater than 0.*** \n",
    "\n",
    "- Exponential distribution is a special case of gamma distribution"
   ]
  },
  {
   "cell_type": "markdown",
   "metadata": {
    "slideshow": {
     "slide_type": "fragment"
    }
   },
   "source": [
    "- The gamma distribution is commonly used in reliability survival studies. \n",
    "\n",
    "    - For example, \n",
    "        - the gamma distribution can describe the time for an electrical component to fail. \n",
    "\n",
    "        - Most electrical components of a particular type will fail around the same time, but a few will take a long time to fail."
   ]
  },
  {
   "cell_type": "markdown",
   "metadata": {
    "slideshow": {
     "slide_type": "subslide"
    }
   },
   "source": [
    "- The gamma distribution is a **continuous distribution** that is defined by its shape and scale parameters. \n",
    "\n",
    "- The 3-parameter gamma distribution is defined by its \n",
    "    - shape ($\\alpha = k$), \n",
    "    - scale ($\\theta$), and \n",
    "    - threshold parameters. \n",
    "    \n",
    "- The inverse scale parameter $\\beta = 1/\\theta$, called a rate parameter. \n",
    "\n",
    "**Function**\n",
    "<div style=\"font-size: 150%;\">  \n",
    "$$f(x;\\alpha, \\beta) \\sim \\text{Gamma}(\\alpha, \\beta) = \\frac{\\beta^{\\alpha}x^{\\alpha-1}e^{-\\beta x}}{\\Gamma(\\alpha)}$$\n",
    "</div>\n",
    "\n",
    "**Parameters**\n",
    "- $\\alpha$ (k) is the shape, \n",
    "- μ is the location, \n",
    "- β ($\\theta$) is the scale\n",
    "\n",
    "- $\\Gamma$ is the gamma function\n",
    "    - $$\\Gamma(a) = \\int_{0}^{\\infty} {t^{a-1}e^{-t}dt}$$"
   ]
  },
  {
   "cell_type": "markdown",
   "metadata": {
    "slideshow": {
     "slide_type": "subslide"
    }
   },
   "source": [
    "For example, in the following graph, the gamma distribution is defined by different shape and scale values when the threshold is set at 0.0. \n",
    "- Notice that most values in a gamma distribution occur near each other, but some values trail into the upper tail."
   ]
  },
  {
   "cell_type": "markdown",
   "metadata": {
    "slideshow": {
     "slide_type": "fragment"
    }
   },
   "source": [
    "##### Probability Density Function\n",
    "<center><img src=\"https://upload.wikimedia.org/wikipedia/commons/thumb/e/e6/Gamma_distribution_pdf.svg/800px-Gamma_distribution_pdf.svg.png\" class=\"center\" alt=\"PDF\" style=\"width: 1000px;\"/></center>"
   ]
  },
  {
   "cell_type": "markdown",
   "metadata": {
    "slideshow": {
     "slide_type": "subslide"
    }
   },
   "source": [
    "##### Cumulative Distribution Function\n",
    "<center><img src=\"https://upload.wikimedia.org/wikipedia/commons/thumb/8/8d/Gamma_distribution_cdf.svg/800px-Gamma_distribution_cdf.svg.png\" class=\"center\" alt=\"CDF\" style=\"width: 1000px;\"/></center>"
   ]
  }
 ],
 "metadata": {
  "celltoolbar": "Slideshow",
  "kernelspec": {
   "display_name": "Python 2",
   "language": "python",
   "name": "python2"
  },
  "language_info": {
   "codemirror_mode": {
    "name": "ipython",
    "version": 2
   },
   "file_extension": ".py",
   "mimetype": "text/x-python",
   "name": "python",
   "nbconvert_exporter": "python",
   "pygments_lexer": "ipython2",
   "version": "2.7.15+"
  }
 },
 "nbformat": 4,
 "nbformat_minor": 2
}
