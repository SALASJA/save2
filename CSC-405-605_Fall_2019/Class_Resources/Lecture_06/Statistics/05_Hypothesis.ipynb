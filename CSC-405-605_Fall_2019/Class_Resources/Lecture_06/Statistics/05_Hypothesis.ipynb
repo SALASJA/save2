{
 "cells": [
  {
   "cell_type": "markdown",
   "metadata": {
    "slideshow": {
     "slide_type": "slide"
    }
   },
   "source": [
    "# Hypothesis Testing"
   ]
  },
  {
   "cell_type": "markdown",
   "metadata": {
    "slideshow": {
     "slide_type": "fragment"
    }
   },
   "source": [
    "- Greensboro has significantly lower crime rates as compared to the national average. \n",
    "<br></br><br></br>\n",
    "- Code peer review improves students’ programming abilities.\n",
    "<br></br><br></br>\n",
    "- Drug A improves students’ ability to not fall asleep during class. \n"
   ]
  },
  {
   "cell_type": "markdown",
   "metadata": {
    "slideshow": {
     "slide_type": "fragment"
    }
   },
   "source": [
    "<center> <h5>Hypothesis is a supposition or proposed explanation made on the basis of limited evidence as a starting point for further investigation.</h5> </center>"
   ]
  },
  {
   "cell_type": "markdown",
   "metadata": {
    "slideshow": {
     "slide_type": "subslide"
    }
   },
   "source": [
    "- Statistical hypothesis tests are based a statement called the null hypothesis (H0) that assumes nothing interesting is going on between whatever variables you are testing. \n",
    "<br></br><br></br>\n",
    "    - The exact form of the null hypothesis varies from one type test to another: \n",
    "        - if you are testing whether groups differ, the null hypothesis states that the groups are the same.\n",
    "        - if you wanted to test whether the average age of voters in your home state differs from the national average, the null hypothesis would be that there is no difference between the average ages."
   ]
  },
  {
   "cell_type": "markdown",
   "metadata": {
    "slideshow": {
     "slide_type": "subslide"
    }
   },
   "source": [
    "### Null Hypothesis (H0)\n",
    "\n",
    "- The null hypothesis : ***value of a parameter is equal to some claimed value.***\n",
    "<br></br><br></br>\n",
    "- We test the null hypothesis directly.\n",
    "<br></br><br></br>\n",
    "- ***Either reject H0 or fail to reject H0.***"
   ]
  },
  {
   "cell_type": "markdown",
   "metadata": {
    "slideshow": {
     "slide_type": "fragment"
    }
   },
   "source": [
    "### Alternative Hypothesis (H1)\n",
    "\n",
    "- The alternative hypothesis : ***parameter that somehow differs from the null hypothesis.***\n",
    "<br></br><br></br>\n",
    "- The symbolic form of the alternative hypothesis must use one of these symbols: $\\neq$, <, >.\n"
   ]
  },
  {
   "cell_type": "markdown",
   "metadata": {
    "slideshow": {
     "slide_type": "subslide"
    }
   },
   "source": [
    "<center><img src=\"./images/hypo1.png\" class=\"center\" alt=\"hypo\" style=\"width: 800px;\"/></center>\n",
    "\n",
    "<center><h5> Hypothesis Testing</h5></center>"
   ]
  },
  {
   "cell_type": "markdown",
   "metadata": {
    "slideshow": {
     "slide_type": "subslide"
    }
   },
   "source": [
    "1. **Null Hypothesis (H0)**\n",
    "    - The difference is caused by random chance.\n",
    "<br></br><br></br>\n",
    "2. **Alternate hypothesis (H1)**\n",
    "    - “The difference is real”.\n",
    "   \n",
    "    \n",
    "    \n",
    "\n",
    "\n",
    "<center><h5>(H1) always contradicts the H0.</h5></center>\n",
    "\n",
    "\n",
    "\n",
    "<center><h5>One (and only one) of these explanations must be true.</h5></center>"
   ]
  },
  {
   "cell_type": "markdown",
   "metadata": {
    "slideshow": {
     "slide_type": "subslide"
    }
   },
   "source": [
    "##### Forming Your Own Hypothesis!\n",
    "\n",
    "If you are conducting a study and want to use a hypothesis test to ***support*** your claim, the claim must be worded so that it becomes the alternative hypothesis.\n",
    "\n",
    "\n",
    "- The purpose of a **hypothesis test** is to determine whether ***the null hypothesis is likely to be true given sample data.*** \n",
    "    - If there is little evidence against the null hypothesis given the data, you accept the null hypothesis. \n",
    "    - If the null hypothesis is unlikely given the data, you might reject the null in favor of the alternative hypothesis - that something interesting is going on. \n",
    "    - The exact form of the alternative hypothesis will depend on the specific test you are carrying out."
   ]
  },
  {
   "cell_type": "markdown",
   "metadata": {
    "slideshow": {
     "slide_type": "subslide"
    }
   },
   "source": [
    "#### Example 1 - Crime in Greensboro is Higher!\n",
    "\n",
    "- Comparison of crime in Greesboro to National average. \n",
    "<br></br><br></br>\n",
    "- Get data for crime in Greensboro.\n",
    "<br></br><br></br>\n",
    "- Get National average of crime. \n",
    "\n",
    "<center><img src=\"./images/hypo1.png\" class=\"center\" alt=\"hypo\" style=\"width: 600px;\"/></center>"
   ]
  },
  {
   "cell_type": "markdown",
   "metadata": {
    "slideshow": {
     "slide_type": "subslide"
    }
   },
   "source": [
    "<center><img src=\"./images/hypo3.png\" class=\"center\" alt=\"hypo\" style=\"width: 500px;\"/></center>"
   ]
  },
  {
   "cell_type": "markdown",
   "metadata": {
    "slideshow": {
     "slide_type": "subslide"
    }
   },
   "source": [
    "#### Example 2 - Efficacy Test for New drug!\n",
    "\n",
    "- Drug company has new drug\n",
    "<br></br><br></br>\n",
    "- FDA tells company that they must demonstrate that new drug is better than current treatment.\n",
    "<br></br><br></br>\n",
    "- Firm runs clinical trial where some patients receive new drug, and others receive standard treatment\n",
    "<br></br><br></br>\n",
    "- Numeric response of therapeutic effect is obtained (higher scores are better)."
   ]
  },
  {
   "cell_type": "markdown",
   "metadata": {
    "slideshow": {
     "slide_type": "subslide"
    }
   },
   "source": [
    "<center><img src=\"./images/hypo2.png\" class=\"center\" alt=\"hypo\" style=\"width: 800px;\"/></center>"
   ]
  },
  {
   "cell_type": "markdown",
   "metadata": {
    "slideshow": {
     "slide_type": "subslide"
    }
   },
   "source": [
    "## **One-tailed tests:**   \n",
    "\n",
    "<center>\n",
    "“is the sample mean  greater than $P_u$ (mean)?”</center>\n",
    "\n",
    "<center><img src=\"https://stats.idre.ucla.edu/wp-content/uploads/2016/02/pvalue3.gif\" class=\"center\" alt=\"two-tail\" style=\"width: 500px;\"/></center>\n",
    "\n",
    "<br></br><br></br>\n",
    "<center>OR</center> \n",
    "<br></br><br></br>\n",
    "\n",
    "<center>“is the sample mean  less than $P_u$ (mean)?”</center>\n",
    "\n",
    "<center><img src=\"https://stats.idre.ucla.edu/wp-content/uploads/2016/02/pvalue2.gif\" class=\"center\" alt=\"two-tail\" style=\"width: 500px;\"/></center>\n"
   ]
  },
  {
   "cell_type": "markdown",
   "metadata": {
    "slideshow": {
     "slide_type": "subslide"
    }
   },
   "source": [
    "## **Two-tailed test:**   \n",
    "\n",
    "<center>“is there a significant difference?”</center>\n",
    "<center><img src=\"https://stats.idre.ucla.edu/wp-content/uploads/2016/02/pvalue1.gif\" class=\"center\" alt=\"two-tail\" style=\"width: 700px;\"/></center>\n"
   ]
  },
  {
   "cell_type": "markdown",
   "metadata": {
    "slideshow": {
     "slide_type": "subslide"
    }
   },
   "source": [
    "- Once you have the null and alternative hypothesis in hand, you choose a significance level (often denoted by the Greek letter α.). \n",
    "    - The significance level is a probability threshold that determines when you reject the null hypothesis. \n",
    "<br></br><br></br>\n",
    "- After carrying out a test, if the probability of getting a result as extreme as the one you observe due to chance is lower than the significance level, you reject the null hypothesis in favor of the alternative. \n",
    "<br></br><br></br>\n",
    "- This probability of seeing a result as extreme or more extreme than the one observed is known as the ***p-value***.\n",
    "\n",
    "<center><h5>p-value is the probability of obtaining the observed sample results by chance.</h5></center>\n",
    "\n",
    "- While it depends on the domain:\n",
    "    - The null hypothesis is **rejected if the p-value is very small, such as 0.05 or less.** (for most domains)"
   ]
  },
  {
   "cell_type": "markdown",
   "metadata": {
    "slideshow": {
     "slide_type": "subslide"
    }
   },
   "source": [
    "We always ***test the null hypothesis.***\n",
    "<center>\n",
    "<br></br><br></br>\n",
    "<h5>1. Reject the null hypothesis.</h5>\n",
    "<br></br><br></br>\n",
    "<h5>OR</h5>\n",
    "<br></br><br></br>\n",
    "<h5>2. Fail to reject the null hypothesis.</h5></center>\n"
   ]
  },
  {
   "cell_type": "markdown",
   "metadata": {
    "slideshow": {
     "slide_type": "subslide"
    }
   },
   "source": [
    "The **T-test** is a statistical test used to determine whether a numeric data sample of differs significantly from the population or whether two samples differ from one another.\n",
    "\n",
    "- **One Sample**\n",
    "    - Test the null hypothesis that the mean of the sample is equal to a given mean.\n",
    "\n",
    "- **Two Sample**\n",
    "    - Test the null hypothesis that the means of the two samples are equal."
   ]
  },
  {
   "cell_type": "markdown",
   "metadata": {
    "slideshow": {
     "slide_type": "subslide"
    }
   },
   "source": [
    "## One-Sample T-Test - Example \n",
    "\n",
    "A one-sample t-test checks whether a sample mean differs from the population mean ($P_u$). \n",
    "\n",
    "- Let's create some dummy age data for \n",
    "    1. the population of voters in the entire country and \n",
    "    2. a sample of voters in Minnesota\n",
    "<br></br><br></br>\n",
    "- And test the ***whether the average age of voters Minnesota differs from the population:***\n",
    "    - **Null Hypothesis H0** - 'Population of Minnesota is ***similar*** to entire country'\n",
    "    - **Alternative Hypothesis H1** - 'Population of Minnesota is ***different*** to entire country'\n",
    "\n",
    "`Scipy.stats`\n",
    "- `scipy.stats.ttest_1samp(a, popmean)`"
   ]
  },
  {
   "cell_type": "code",
   "execution_count": 1,
   "metadata": {
    "slideshow": {
     "slide_type": "skip"
    }
   },
   "outputs": [],
   "source": [
    "%matplotlib inline"
   ]
  },
  {
   "cell_type": "code",
   "execution_count": 2,
   "metadata": {
    "slideshow": {
     "slide_type": "skip"
    }
   },
   "outputs": [],
   "source": [
    "import numpy as np\n",
    "import pandas as pd\n",
    "import scipy.stats as stats\n",
    "import matplotlib.pyplot as plt\n",
    "import math"
   ]
  },
  {
   "cell_type": "code",
   "execution_count": 3,
   "metadata": {
    "slideshow": {
     "slide_type": "subslide"
    }
   },
   "outputs": [],
   "source": [
    "np.random.seed(6)\n",
    "\n",
    "population_ages1 = stats.poisson.rvs(loc=18, mu=35, size=150000)\n",
    "population_ages2 = stats.poisson.rvs(loc=18, mu=10, size=100000)\n",
    "population_ages = np.concatenate((population_ages1, population_ages2))\n",
    "\n",
    "minnesota_ages1 = stats.poisson.rvs(loc=18, mu=30, size=30)\n",
    "minnesota_ages2 = stats.poisson.rvs(loc=18, mu=10, size=20)\n",
    "minnesota_ages = np.concatenate((minnesota_ages1, minnesota_ages2))"
   ]
  },
  {
   "cell_type": "code",
   "execution_count": 4,
   "metadata": {
    "scrolled": false,
    "slideshow": {
     "slide_type": "subslide"
    }
   },
   "outputs": [
    {
     "data": {
      "text/plain": [
       "<matplotlib.lines.Line2D at 0x7fe1f5a30050>"
      ]
     },
     "execution_count": 4,
     "metadata": {},
     "output_type": "execute_result"
    },
    {
     "data": {
      "image/png": "[encoded data removed]",
      "text/plain": [
       "<Figure size 864x576 with 1 Axes>"
      ]
     },
     "metadata": {
      "needs_background": "light"
     },
     "output_type": "display_data"
    }
   ],
   "source": [
    "plt.figure(figsize=(12,8))\n",
    "plt.hist(population_ages, bins=20, edgecolor='k', alpha=0.65)\n",
    "plt.axvline(population_ages.mean(), color='r', linestyle='dashed', linewidth=1)"
   ]
  },
  {
   "cell_type": "code",
   "execution_count": 5,
   "metadata": {
    "slideshow": {
     "slide_type": "subslide"
    }
   },
   "outputs": [
    {
     "data": {
      "text/plain": [
       "<matplotlib.lines.Line2D at 0x7fe1f3563910>"
      ]
     },
     "execution_count": 5,
     "metadata": {},
     "output_type": "execute_result"
    },
    {
     "data": {
      "image/png": "[encoded data removed]",
      "text/plain": [
       "<Figure size 864x576 with 1 Axes>"
      ]
     },
     "metadata": {
      "needs_background": "light"
     },
     "output_type": "display_data"
    }
   ],
   "source": [
    "plt.figure(figsize=(12,8))\n",
    "plt.hist(minnesota_ages, bins=20, edgecolor='k', alpha=0.65)\n",
    "plt.axvline(minnesota_ages.mean(), color='r', linestyle='dashed', linewidth=1)"
   ]
  },
  {
   "cell_type": "code",
   "execution_count": 6,
   "metadata": {
    "slideshow": {
     "slide_type": "subslide"
    }
   },
   "outputs": [
    {
     "name": "stdout",
     "output_type": "stream",
     "text": [
      "43.000112\n",
      "39.26\n"
     ]
    }
   ],
   "source": [
    "print( population_ages.mean() )\n",
    "print( minnesota_ages.mean() )\n"
   ]
  },
  {
   "cell_type": "markdown",
   "metadata": {
    "slideshow": {
     "slide_type": "subslide"
    }
   },
   "source": [
    "#### 95% Confidence Interval\n",
    "\n",
    "- Notice that we used a slightly different combination of distributions to generate the sample data for Minnesota, so we know that the two means are different. \n",
    "\n",
    "- Let's conduct a t-test at a 95% confidence level and see if it correctly rejects the null hypothesis that the sample comes from the same distribution as the population. \n",
    "    - To conduct a one sample t-test, we can use the `stats.ttest_1samp()` function:\n"
   ]
  },
  {
   "cell_type": "code",
   "execution_count": 7,
   "metadata": {
    "slideshow": {
     "slide_type": "fragment"
    }
   },
   "outputs": [
    {
     "data": {
      "text/plain": [
       "Ttest_1sampResult(statistic=-2.5742714883655027, pvalue=0.013118685425061678)"
      ]
     },
     "execution_count": 7,
     "metadata": {},
     "output_type": "execute_result"
    }
   ],
   "source": [
    "stats.ttest_1samp(a= minnesota_ages,               # Sample data\n",
    "                 popmean= population_ages.mean())  # Pop mean"
   ]
  },
  {
   "cell_type": "markdown",
   "metadata": {
    "slideshow": {
     "slide_type": "subslide"
    }
   },
   "source": [
    "- The test result shows \n",
    "    - the test statistic \"t\" is equal to -2.574. \n",
    "    - the p-value is 0.0131 (< 0.05) \n",
    "\n",
    "- A p-value of 0.01311 means we'd expect to see data as extreme as our sample due to chance about 1.3% of the time if the null hypothesis was true. \n",
    "<br></br><br></br>\n",
    "    - In this case, the p-value is lower than our significance level α (equal to 1-conf.level or 0.05) so, ***we should reject the null hypothesis.*** \n",
    "\n"
   ]
  },
  {
   "cell_type": "markdown",
   "metadata": {
    "slideshow": {
     "slide_type": "subslide"
    }
   },
   "source": [
    "This test statistic (t-statistics) tells us how much the sample mean deviates from the null hypothesis. \n",
    "- If the t-statistic lies outside the quantiles of the t-distribution corresponding to our confidence level and degrees of freedom, we reject the null hypothesis.\n",
    "\n",
    "- We can check the quantiles with `stats.t.ppf()`:"
   ]
  },
  {
   "cell_type": "code",
   "execution_count": 8,
   "metadata": {
    "slideshow": {
     "slide_type": "fragment"
    }
   },
   "outputs": [
    {
     "data": {
      "text/plain": [
       "-2.0095752344892093"
      ]
     },
     "execution_count": 8,
     "metadata": {},
     "output_type": "execute_result"
    }
   ],
   "source": [
    "stats.t.ppf(q=0.025,  # Quantile to check\n",
    "            df=49)  # Degrees of freedom"
   ]
  },
  {
   "cell_type": "markdown",
   "metadata": {
    "slideshow": {
     "slide_type": "subslide"
    }
   },
   "source": [
    "We can calculate the chances of seeing a result as extreme as the one we observed (known as the p-value) by passing the t-statistic in as the quantile to the `stats.t.cdf()` function:"
   ]
  },
  {
   "cell_type": "code",
   "execution_count": 9,
   "metadata": {
    "slideshow": {
     "slide_type": "fragment"
    }
   },
   "outputs": [
    {
     "data": {
      "text/plain": [
       "0.013121066545690117"
      ]
     },
     "execution_count": 9,
     "metadata": {},
     "output_type": "execute_result"
    }
   ],
   "source": [
    "stats.t.cdf(x= -2.5742,      # T-test statistic\n",
    "               df= 49) * 2   # Mupltiply by two for two tailed test*"
   ]
  },
  {
   "cell_type": "markdown",
   "metadata": {
    "slideshow": {
     "slide_type": "fragment"
    }
   },
   "source": [
    "Notice this value is the same as the p-value listed in the original t-test output. \n",
    "\n",
    "*Note: The alternative hypothesis we are checking is whether the sample mean differs (is not equal to) the population mean. Since the sample could differ in either the positive or negative direction we multiply the by two."
   ]
  },
  {
   "cell_type": "markdown",
   "metadata": {
    "slideshow": {
     "slide_type": "subslide"
    }
   },
   "source": [
    "If we were to construct a 95% confidence interval for the sample it would not capture population mean of 43:"
   ]
  },
  {
   "cell_type": "code",
   "execution_count": 10,
   "metadata": {
    "slideshow": {
     "slide_type": "fragment"
    }
   },
   "outputs": [
    {
     "data": {
      "text/plain": [
       "(36.369669080722176, 42.15033091927782)"
      ]
     },
     "execution_count": 10,
     "metadata": {},
     "output_type": "execute_result"
    }
   ],
   "source": [
    "sigma = minnesota_ages.std()/math.sqrt(50)  # Sample stdev/sample size\n",
    "\n",
    "stats.t.interval(0.95,                        # Confidence level\n",
    "                 df = 49,                     # Degrees of freedom\n",
    "                 loc = minnesota_ages.mean(), # Sample mean\n",
    "                 scale= sigma)                # Standard dev estimate"
   ]
  },
  {
   "cell_type": "markdown",
   "metadata": {
    "slideshow": {
     "slide_type": "subslide"
    }
   },
   "source": [
    "#### 99% Confidence Interval\n",
    "\n",
    "On the other hand, since there is a 1.3% chance of seeing a result this extreme due to chance, it is not significant at the 99% confidence level. This means if we were to construct a 99% confidence interval, it would capture the population mean:\n"
   ]
  },
  {
   "cell_type": "code",
   "execution_count": 11,
   "metadata": {
    "slideshow": {
     "slide_type": "fragment"
    }
   },
   "outputs": [
    {
     "data": {
      "text/plain": [
       "(35.40547994092107, 43.11452005907893)"
      ]
     },
     "execution_count": 11,
     "metadata": {},
     "output_type": "execute_result"
    }
   ],
   "source": [
    "stats.t.interval(alpha = 0.99,                # Confidence level\n",
    "                 df = 49,                     # Degrees of freedom\n",
    "                 loc = minnesota_ages.mean(), # Sample mean\n",
    "                 scale= sigma)                # Standard dev estimate"
   ]
  },
  {
   "cell_type": "markdown",
   "metadata": {
    "slideshow": {
     "slide_type": "fragment"
    }
   },
   "source": [
    "With a higher confidence level, we construct a wider confidence interval and increase the chances that it captures to true mean, thus making it less likely that we'll reject the null hypothesis. \n",
    "- In this case, the p-value of 0.013 is greater than our significance level of 0.01 (99% confidence interval) and ***we fail to reject the null hypothesis.***"
   ]
  },
  {
   "cell_type": "markdown",
   "metadata": {
    "slideshow": {
     "slide_type": "subslide"
    }
   },
   "source": [
    "## Two-Sample T-Test\n",
    "\n",
    "- A two-sample t-test investigates whether the means of two independent data samples differ from one another. \n",
    "<br></br><br></br>\n",
    "    - In a two-sample test, ***the null hypothesis is that the means of both groups are the same.***\n",
    "    <br></br><br></br>\n",
    "    - Unlike the one sample-test where we test against a known population parameter, the two sample test only involves sample means. \n",
    "    \n",
    "You can conduct a two-sample t-test by passing with the `stats.ttest_ind()` function. Let's generate a sample of voter age data for Wisconsin and test it against the sample we made earlier:\n"
   ]
  },
  {
   "cell_type": "code",
   "execution_count": 12,
   "metadata": {
    "slideshow": {
     "slide_type": "fragment"
    }
   },
   "outputs": [
    {
     "name": "stdout",
     "output_type": "stream",
     "text": [
      "42.8\n"
     ]
    }
   ],
   "source": [
    "np.random.seed(12)\n",
    "wisconsin_ages1 = stats.poisson.rvs(loc=18, mu=33, size=30)\n",
    "wisconsin_ages2 = stats.poisson.rvs(loc=18, mu=13, size=20)\n",
    "wisconsin_ages = np.concatenate((wisconsin_ages1, wisconsin_ages2))\n",
    "\n",
    "print( wisconsin_ages.mean() )"
   ]
  },
  {
   "cell_type": "code",
   "execution_count": 20,
   "metadata": {},
   "outputs": [
    {
     "data": {
      "text/plain": [
       "<matplotlib.lines.Line2D at 0x7fe244364310>"
      ]
     },
     "execution_count": 20,
     "metadata": {},
     "output_type": "execute_result"
    },
    {
     "data": {
      "image/png": "[encoded data removed]",
      "text/plain": [
       "<Figure size 864x576 with 1 Axes>"
      ]
     },
     "metadata": {
      "needs_background": "light"
     },
     "output_type": "display_data"
    }
   ],
   "source": [
    "plt.figure(figsize=(12,8))\n",
    "plt.hist(minnesota_ages, bins=20, edgecolor='k', alpha=0.65)\n",
    "plt.axvline(minnesota_ages.mean(), color='r', linestyle='dashed', linewidth=1)"
   ]
  },
  {
   "cell_type": "code",
   "execution_count": 21,
   "metadata": {},
   "outputs": [
    {
     "data": {
      "text/plain": [
       "<matplotlib.lines.Line2D at 0x7fe1f3199e90>"
      ]
     },
     "execution_count": 21,
     "metadata": {},
     "output_type": "execute_result"
    },
    {
     "data": {
      "image/png": "[encoded data removed]",
      "text/plain": [
       "<Figure size 864x576 with 1 Axes>"
      ]
     },
     "metadata": {
      "needs_background": "light"
     },
     "output_type": "display_data"
    }
   ],
   "source": [
    "plt.figure(figsize=(12,8))\n",
    "plt.hist(wisconsin_ages, bins=20, edgecolor='k', alpha=0.65)\n",
    "plt.axvline(wisconsin_ages.mean(), color='r', linestyle='dashed', linewidth=1)"
   ]
  },
  {
   "cell_type": "code",
   "execution_count": 15,
   "metadata": {
    "slideshow": {
     "slide_type": "subslide"
    }
   },
   "outputs": [
    {
     "data": {
      "text/plain": [
       "Ttest_indResult(statistic=-1.7083870793286842, pvalue=0.09073104343957748)"
      ]
     },
     "execution_count": 15,
     "metadata": {},
     "output_type": "execute_result"
    }
   ],
   "source": [
    "stats.ttest_ind(a= minnesota_ages,\n",
    "                b= wisconsin_ages,\n",
    "                equal_var=False)    # Assume samples have equal variance?"
   ]
  },
  {
   "cell_type": "markdown",
   "metadata": {
    "slideshow": {
     "slide_type": "fragment"
    }
   },
   "source": [
    "The test yields a p-value of 0.0907\n",
    "    <br></br><br></br>\n",
    "- which means there is a 9% chance we'd see sample data this far apart if the two groups tested are actually identical. \n",
    "    <br></br><br></br>\n",
    "- If we were using a 95% confidence level we would ***fail to reject the null hypothesis.***\n",
    "    - since the p-value is greater than the corresponding significance level of 5%. ($\\alpha < 0.05$)"
   ]
  },
  {
   "cell_type": "markdown",
   "metadata": {
    "slideshow": {
     "slide_type": "subslide"
    }
   },
   "source": [
    "## Paired T-Test\n",
    "\n",
    "- The basic two sample t-test is designed for testing differences between independent groups. \n",
    "<br></br><br></br>\n",
    "- In some cases, you might be interested in testing differences between samples of the same group at different points in time. \n",
    "<br></br><br></br>\n",
    "    - For instance, a hospital might want to test whether a weight-loss drug works by checking the weights of the same group patients before and after treatment. \n",
    "    <br></br><br></br>\n",
    "    - A paired t-test lets you ***check whether the means of samples from the same group differ.***\n",
    "\n",
    "\n",
    "- We can conduct a paired t-test using the scipy function `stats.ttest_rel()`. \n",
    "\n",
    "Let's generate some dummy patient weight data and do a paired t-test:"
   ]
  },
  {
   "cell_type": "code",
   "execution_count": 16,
   "metadata": {
    "slideshow": {
     "slide_type": "subslide"
    }
   },
   "outputs": [
    {
     "data": {
      "text/html": [
       "<div>\n",
       "<style scoped>\n",
       "    .dataframe tbody tr th:only-of-type {\n",
       "        vertical-align: middle;\n",
       "    }\n",
       "\n",
       "    .dataframe tbody tr th {\n",
       "        vertical-align: top;\n",
       "    }\n",
       "\n",
       "    .dataframe thead th {\n",
       "        text-align: right;\n",
       "    }\n",
       "</style>\n",
       "<table border=\"1\" class=\"dataframe\">\n",
       "  <thead>\n",
       "    <tr style=\"text-align: right;\">\n",
       "      <th></th>\n",
       "      <th>weight_after</th>\n",
       "      <th>weight_before</th>\n",
       "      <th>weight_change</th>\n",
       "    </tr>\n",
       "  </thead>\n",
       "  <tbody>\n",
       "    <tr>\n",
       "      <th>count</th>\n",
       "      <td>100.000000</td>\n",
       "      <td>100.000000</td>\n",
       "      <td>100.000000</td>\n",
       "    </tr>\n",
       "    <tr>\n",
       "      <th>mean</th>\n",
       "      <td>249.115171</td>\n",
       "      <td>250.345546</td>\n",
       "      <td>-1.230375</td>\n",
       "    </tr>\n",
       "    <tr>\n",
       "      <th>std</th>\n",
       "      <td>28.422183</td>\n",
       "      <td>28.132539</td>\n",
       "      <td>4.783696</td>\n",
       "    </tr>\n",
       "    <tr>\n",
       "      <th>min</th>\n",
       "      <td>165.913930</td>\n",
       "      <td>170.400443</td>\n",
       "      <td>-11.495286</td>\n",
       "    </tr>\n",
       "    <tr>\n",
       "      <th>25%</th>\n",
       "      <td>229.148236</td>\n",
       "      <td>230.421042</td>\n",
       "      <td>-4.046211</td>\n",
       "    </tr>\n",
       "    <tr>\n",
       "      <th>50%</th>\n",
       "      <td>251.134089</td>\n",
       "      <td>250.830805</td>\n",
       "      <td>-1.413463</td>\n",
       "    </tr>\n",
       "    <tr>\n",
       "      <th>75%</th>\n",
       "      <td>268.927258</td>\n",
       "      <td>270.637145</td>\n",
       "      <td>1.738673</td>\n",
       "    </tr>\n",
       "    <tr>\n",
       "      <th>max</th>\n",
       "      <td>316.720357</td>\n",
       "      <td>314.700233</td>\n",
       "      <td>9.759282</td>\n",
       "    </tr>\n",
       "  </tbody>\n",
       "</table>\n",
       "</div>"
      ],
      "text/plain": [
       "       weight_after  weight_before  weight_change\n",
       "count    100.000000     100.000000     100.000000\n",
       "mean     249.115171     250.345546      -1.230375\n",
       "std       28.422183      28.132539       4.783696\n",
       "min      165.913930     170.400443     -11.495286\n",
       "25%      229.148236     230.421042      -4.046211\n",
       "50%      251.134089     250.830805      -1.413463\n",
       "75%      268.927258     270.637145       1.738673\n",
       "max      316.720357     314.700233       9.759282"
      ]
     },
     "execution_count": 16,
     "metadata": {},
     "output_type": "execute_result"
    }
   ],
   "source": [
    "np.random.seed(11)\n",
    "\n",
    "before= stats.norm.rvs(scale=30, loc=250, size=100)\n",
    "\n",
    "after = before + stats.norm.rvs(scale=5, loc=-1.25, size=100)\n",
    "\n",
    "weight_df = pd.DataFrame({\"weight_before\":before,\n",
    "                          \"weight_after\":after,\n",
    "                          \"weight_change\":after-before})\n",
    "\n",
    "weight_df.describe()             # Check a summary of the data"
   ]
  },
  {
   "cell_type": "markdown",
   "metadata": {
    "slideshow": {
     "slide_type": "subslide"
    }
   },
   "source": [
    "The summary shows that patients lost about 1.23 pounds on average after treatment. \n",
    "\n",
    "- Hypothesis\n",
    "    - Null Hypothesis H0 - 'Weight Before is ***similar*** to Weight After'\n",
    "    - Alternative Hypothesis H1 - 'Weight Before is ***different*** to Weight After'\n",
    "\n",
    "Let's conduct a paired t-test to see whether this difference is significant at a 95% confidence level:"
   ]
  },
  {
   "cell_type": "code",
   "execution_count": 17,
   "metadata": {
    "slideshow": {
     "slide_type": "fragment"
    }
   },
   "outputs": [
    {
     "data": {
      "text/plain": [
       "Ttest_relResult(statistic=2.5720175998568284, pvalue=0.011596444318439857)"
      ]
     },
     "execution_count": 17,
     "metadata": {},
     "output_type": "execute_result"
    }
   ],
   "source": [
    "stats.ttest_rel(a = before,\n",
    "                b = after)"
   ]
  },
  {
   "cell_type": "markdown",
   "metadata": {
    "slideshow": {
     "slide_type": "fragment"
    }
   },
   "source": [
    "The p-value in the test output shows that the chances of seeing this large of a difference between samples due to chance is just over 1%.\n",
    "\n",
    "\n",
    "\n",
    "\n",
    "<center><h5>Reject the Null Hypothesis</h5></center>"
   ]
  },
  {
   "cell_type": "markdown",
   "metadata": {
    "slideshow": {
     "slide_type": "subslide"
    }
   },
   "source": [
    "## Type I and Type II Error\n",
    "\n",
    "- The result of a statistical hypothesis test and the corresponding decision of whether to reject or accept the null hypothesis is not infallible. \n",
    "\n",
    "- A test provides evidence for or against the null hypothesis and then you decide whether to accept or reject it based on that evidence, ***but the evidence may lack the strength to arrive at the correct conclusion.***\n",
    "\n",
    "- Incorrect conclusions made from hypothesis tests fall in one of two categories: \n",
    "    - Type I error and \n",
    "    - Type II error."
   ]
  },
  {
   "cell_type": "markdown",
   "metadata": {
    "slideshow": {
     "slide_type": "subslide"
    }
   },
   "source": [
    "<center><img src=\"./images/hypo4.png\" class=\"center\" alt=\"hypo\" style=\"width: 600px;\"/></center>"
   ]
  },
  {
   "cell_type": "markdown",
   "metadata": {
    "slideshow": {
     "slide_type": "subslide"
    }
   },
   "source": [
    "- **Type I error describes a situation where you reject the null hypothesis when it is actually true.** \n",
    "    - This type of error is also known as a **\"false positive\"** or \"false hit\". \n",
    "    - The type 1 error rate is equal to the significance level $\\alpha$\n",
    "        - So setting a higher confidence level (and therefore lower alpha) reduces the chances of getting a false positive.\n",
    "    <br></br><br></br>    <br></br><br></br>\n",
    "- **Type II error describes a situation where you fail to reject the null hypothesis when it is actually false.** \n",
    "    - Type II error is also known as a **\"false negative\"** or \"miss\", often denoted as $\\beta$. \n",
    "        - The higher your confidence level, the more likely you are to make a type II error.\n"
   ]
  },
  {
   "cell_type": "markdown",
   "metadata": {
    "slideshow": {
     "slide_type": "subslide"
    }
   },
   "source": [
    "<center><img src=\"./images/hypo5.png\" class=\"center\" alt=\"hypo\" style=\"width: 600px;\"/></center>"
   ]
  },
  {
   "cell_type": "markdown",
   "metadata": {
    "slideshow": {
     "slide_type": "subslide"
    }
   },
   "source": [
    "### Type Error Example:\n",
    "\n",
    "\n",
    "\n",
    "\n",
    "<br></br><br></br>\n",
    "\n",
    "<center>\"Ever wonder how someone in America can be arrested if they really are presumed innocent, why a defendant is found not guilty instead of innocent, or why Americans put up with a justice system which sometimes allows criminals to go free on technicalities? \"</center>"
   ]
  },
  {
   "cell_type": "markdown",
   "metadata": {
    "slideshow": {
     "slide_type": "subslide"
    }
   },
   "source": [
    "- **Null hypothesis H0** - *The person is not guilty.*\n",
    "    - In the criminal justice system this is the presumption of innocence. In both the judicial system and statistics the null hypothesis indicates that the suspect or treatment didn't do anything. In other words, nothing out of the ordinary happened. \n",
    "\n",
    "\n",
    "- **Alternative hypothesis H1** - *The person is guilty.*\n",
    "    - This is the reason a criminal is arrested. Obviously the police don't think the arrested person is innocent or they wouldn't arrest him. \n",
    "\n",
    "---\n",
    "---\n",
    "\n",
    "\n",
    "- **Type I errors**: Unfortunately, neither the legal system or statistical testing are perfect. A jury sometimes makes an error and an innocent person goes to jail. \n",
    "    - A type I error means that not only has an innocent person been sent to jail but the truly guilty person has gone free.\n",
    "\n",
    "    - In the justice system, failure to reject the presumption of innocence gives the defendant a not guilty verdict. This means only that the standard for rejecting innocence was not met. It does not mean the person really is innocent. It would take an endless amount of evidence to actually prove the null hypothesis of innocence. \n",
    "\n",
    "- **Type II errors**: Sometimes, guilty people are set free. \n",
    "\n",
    "    - Type II errors disturbing but not as horrifying as type I errors.  \n",
    "    - In a sense, a type I error in a trial is twice as bad as a type II error. \n",
    "        - Needless to say, the American justice system puts a lot of emphasis on avoiding type I errors.  \n",
    "    - This emphasis on avoiding type I errors, however, is not true in all cases where statistical hypothesis testing is done."
   ]
  },
  {
   "cell_type": "markdown",
   "metadata": {
    "slideshow": {
     "slide_type": "subslide"
    }
   },
   "source": [
    "<center><img src=\"http://intuitor.com/statistics/T1T2Errors_fig1.gif\" class=\"center\" alt=\"hypo\" style=\"width: 800px;\"/></center>\n",
    "\n",
    "\n",
    "<center>Distribution of possible witnesses in a trial when the accused is innocent</center>"
   ]
  },
  {
   "cell_type": "markdown",
   "metadata": {
    "slideshow": {
     "slide_type": "subslide"
    }
   },
   "source": [
    "## **Type I error**\n",
    "\n",
    "<center><img src=\"http://intuitor.com/statistics/T1T2Errors_fig2.gif\" class=\"center\" alt=\"hypo\" style=\"width: 900px;\"/></center>\n",
    "\n",
    "\n",
    "<center>Distribution of possible witnesses in a trial when the accused is innocent, showing the probable outcomes with a single witness.</center>"
   ]
  },
  {
   "cell_type": "markdown",
   "metadata": {
    "slideshow": {
     "slide_type": "subslide"
    }
   },
   "source": [
    "<center><img src=\"http://intuitor.com/statistics/T1T2Errors_fig3.gif\" class=\"center\" alt=\"hypo\" style=\"width: 900px;\"/></center>\n",
    "\n",
    "\n",
    "<center>Distribution of possible witnesses in a trial showing the probable outcomes with a single witness if the accused is innocent or obviously guilty.</center>"
   ]
  },
  {
   "cell_type": "markdown",
   "metadata": {
    "slideshow": {
     "slide_type": "subslide"
    }
   },
   "source": [
    "<center><img src=\"http://intuitor.com/statistics/T1T2Errors_fig4.gif\" class=\"center\" alt=\"hypo\" style=\"width: 600px;\"/></center>\n",
    "\n",
    "\n",
    "<center> Distribution of possible witnesses in a trial showing the probable outcomes with a single witness if the accused is innocent or not clearly guilty.</center>"
   ]
  },
  {
   "cell_type": "markdown",
   "metadata": {
    "slideshow": {
     "slide_type": "subslide"
    }
   },
   "source": [
    "## **Reducing Type I and II Error**\n",
    "\n",
    "<center><img src=\"http://intuitor.com/statistics/T1T2Errors_fig5.gif\" class=\"center\" alt=\"hypo\" style=\"width: 600px;\"/></center>\n",
    "\n",
    "\n",
    "<center> The effects of increasing sample size or in other words, number of independent witnesses.</center>"
   ]
  },
  {
   "cell_type": "markdown",
   "metadata": {
    "slideshow": {
     "slide_type": "subslide"
    }
   },
   "source": [
    "### Why multiple testing matters\n",
    "\n",
    "In general, if we perform $m$ hypothesis tests, what is the probability of at least 1 false positive\n",
    "\n",
    "P(Making an Error) $= \\alpha = 0.05$\n",
    "\n",
    "P(Not Making an Error) $= 1 - \\alpha = 0.95$\n",
    "\n",
    "P(Not Making an Error in $m$ tests) $= {(1 - \\alpha)}^m$\n",
    "\n",
    "P(Making an Error in $m$ tests) $= 1 - {(1 - \\alpha)}^m = 0.99$\n"
   ]
  },
  {
   "cell_type": "markdown",
   "metadata": {
    "slideshow": {
     "slide_type": "subslide"
    }
   },
   "source": [
    "<center><img src=\"./images/hypo6.png\" class=\"center\" alt=\"hypo\" style=\"width: 600px;\"/></center>"
   ]
  },
  {
   "cell_type": "markdown",
   "metadata": {
    "slideshow": {
     "slide_type": "subslide"
    }
   },
   "source": [
    "Coming back to the errors. Let's investigate these errors with a plot:"
   ]
  },
  {
   "cell_type": "code",
   "execution_count": 18,
   "metadata": {
    "slideshow": {
     "slide_type": "fragment"
    }
   },
   "outputs": [
    {
     "data": {
      "text/plain": [
       "Text(0,0.02,'Type 2 Error')"
      ]
     },
     "execution_count": 18,
     "metadata": {},
     "output_type": "execute_result"
    },
    {
     "data": {
      "image/png": "[encoded data removed]",
      "text/plain": [
       "<Figure size 864x720 with 1 Axes>"
      ]
     },
     "metadata": {
      "needs_background": "light"
     },
     "output_type": "display_data"
    }
   ],
   "source": [
    "plt.figure(figsize=(12,10))\n",
    "\n",
    "plt.fill_between(x=np.arange(-4,-2,0.01), y1= stats.norm.pdf(np.arange(-4,-2,0.01)) , edgecolor='k', facecolor='red',alpha=0.35)\n",
    "\n",
    "plt.fill_between(x=np.arange(-2,2,0.01), y1= stats.norm.pdf(np.arange(-2,2,0.01)) , edgecolor='k',facecolor='white', alpha=0.35)\n",
    "\n",
    "plt.fill_between(x=np.arange(2,4,0.01), y1= stats.norm.pdf(np.arange(2,4,0.01)) , edgecolor='k', facecolor='red', alpha=0.5)\n",
    "\n",
    "plt.fill_between(x=np.arange(-4,-2,0.01), y1= stats.norm.pdf(np.arange(-4,-2,0.01),loc=3, scale=2) , edgecolor='k', facecolor='white', alpha=0.35)\n",
    "\n",
    "plt.fill_between(x=np.arange(-2,2,0.01), y1= stats.norm.pdf(np.arange(-2,2,0.01),loc=3, scale=2) , edgecolor='k', facecolor='blue', alpha=0.35)\n",
    "\n",
    "plt.fill_between(x=np.arange(2,10,0.01), y1= stats.norm.pdf(np.arange(2,10,0.01),loc=3, scale=2), edgecolor='k', facecolor='white', alpha=0.35)\n",
    "\n",
    "plt.text(x=-0.8, y=0.15, s= \"Null Hypothesis\")\n",
    "plt.text(x=2.5, y=0.13, s= \"Alternative\")\n",
    "plt.text(x=2.1, y=0.01, s= \"Type 1 Error\")\n",
    "plt.text(x=-3.2, y=0.01, s= \"Type 1 Error\")\n",
    "plt.text(x=0, y=0.02, s= \"Type 2 Error\")"
   ]
  },
  {
   "cell_type": "markdown",
   "metadata": {
    "slideshow": {
     "slide_type": "subslide"
    }
   },
   "source": [
    "In the plot above, \n",
    "- the **red areas indicate type I errors** \n",
    "    - assuming the alternative hypothesis is not different from the null for a two-sided test with a 95% confidence level.\n",
    "<br></br><br></br>\n",
    "- the **blue area represents type II errors** \n",
    "    - that occur when the alternative hypothesis is different from the null, as shown by the distribution on the right. \n",
    "    - Note that the Type II error rate is the area under the alternative distribution within the quantiles determined by the null distribution and the confidence level. \n",
    "    \n",
    "    \n",
    "We can calculate the type II error rate for the distributions above as follows:"
   ]
  },
  {
   "cell_type": "code",
   "execution_count": 19,
   "metadata": {
    "slideshow": {
     "slide_type": "subslide"
    }
   },
   "outputs": [
    {
     "data": {
      "text/plain": [
       "0.294956061112323"
      ]
     },
     "execution_count": 19,
     "metadata": {},
     "output_type": "execute_result"
    }
   ],
   "source": [
    "lower_quantile = stats.norm.ppf(0.025)  # Lower cutoff value\n",
    "upper_quantile = stats.norm.ppf(0.975)  # Upper cutoff value\n",
    "\n",
    "# Area under alternative, to the left the lower cutoff value\n",
    "low = stats.norm.cdf(lower_quantile,    \n",
    "                     loc=3,             \n",
    "                     scale=2)\n",
    "\n",
    "# Area under alternative, to the left the upper cutoff value\n",
    "high = stats.norm.cdf(upper_quantile, \n",
    "                      loc=3, \n",
    "                      scale=2)          \n",
    "\n",
    "# Area under the alternative, between the cutoffs (Type II error)\n",
    "high-low"
   ]
  },
  {
   "cell_type": "markdown",
   "metadata": {
    "slideshow": {
     "slide_type": "fragment"
    }
   },
   "source": [
    "With the normal distributions above, we'd ***fail to reject the null hypothesis about 30% of the time***, because the distributions are close enough together that they have significant overlap."
   ]
  },
  {
   "cell_type": "code",
   "execution_count": null,
   "metadata": {},
   "outputs": [],
   "source": []
  }
 ],
 "metadata": {
  "celltoolbar": "Slideshow",
  "kernelspec": {
   "display_name": "Python 2",
   "language": "python",
   "name": "python2"
  },
  "language_info": {
   "codemirror_mode": {
    "name": "ipython",
    "version": 2
   },
   "file_extension": ".py",
   "mimetype": "text/x-python",
   "name": "python",
   "nbconvert_exporter": "python",
   "pygments_lexer": "ipython2",
   "version": "2.7.15+"
  }
 },
 "nbformat": 4,
 "nbformat_minor": 2
}
